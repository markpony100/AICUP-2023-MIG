{
 "cells": [
  {
   "cell_type": "code",
   "execution_count": 75,
   "id": "fa78049b-06a4-4197-b3ec-31ff702b4124",
   "metadata": {},
   "outputs": [],
   "source": [
    "#from \n",
    "import json\n",
    "from dataclasses import dataclass\n",
    "import pandas as pd\n",
    "import numpy as np\n",
    "import sys\n",
    "sys.path.append('../')\n",
    "from utils import load_simple_json,load_json\n",
    "from sklearn.metrics import recall_score,precision_score,confusion_matrix,accuracy_score"
   ]
  },
  {
   "cell_type": "markdown",
   "id": "b9697997-2fad-4869-af7b-82986e227997",
   "metadata": {},
   "source": [
    "TEST data"
   ]
  },
  {
   "cell_type": "code",
   "execution_count": 44,
   "id": "92210d07-36e0-4676-baed-ee969167bf44",
   "metadata": {},
   "outputs": [
    {
     "data": {
      "text/plain": [
       "853"
      ]
     },
     "execution_count": 44,
     "metadata": {},
     "output_type": "execute_result"
    }
   ],
   "source": [
    "TEST_DATA = load_json(\"../pert_large/enough/0522_03_fix/pub_test_v1.jsonl\")\n",
    "len(TEST_DATA)"
   ]
  },
  {
   "cell_type": "code",
   "execution_count": 45,
   "id": "94cf48de-b868-4055-8f83-b6696c0cbf9e",
   "metadata": {},
   "outputs": [],
   "source": [
    "preds = load_simple_json(\"../pert_large/claim/0522_03_w_noise/pub_test_v1.json\")#test_ens4_p74"
   ]
  },
  {
   "cell_type": "code",
   "execution_count": 46,
   "id": "4b74de3e-d604-4553-9791-d6871856e177",
   "metadata": {},
   "outputs": [],
   "source": [
    "def join_pred_data(pred_dic,data):\n",
    "    re_lst=[]\n",
    "    data_map = {i[\"id\"]:idx for idx,i in enumerate(data)}\n",
    "    for key in pred_dic:\n",
    "        buf=None\n",
    "        if int(key) in data_map.keys():\n",
    "            buf = data[data_map[int(key)]]\n",
    "            buf[\"predict_label\"]=pred_dic[key]['predict_label']\n",
    "            re_lst.append(buf)\n",
    "    return re_lst"
   ]
  },
  {
   "cell_type": "code",
   "execution_count": 47,
   "id": "09b2e7d9-5127-4870-90d1-6989a143e3ed",
   "metadata": {},
   "outputs": [
    {
     "data": {
      "text/plain": [
       "853"
      ]
     },
     "execution_count": 47,
     "metadata": {},
     "output_type": "execute_result"
    }
   ],
   "source": [
    "pair_data = join_pred_data(preds,TEST_DATA)\n",
    "len(pair_data)"
   ]
  },
  {
   "cell_type": "code",
   "execution_count": 48,
   "id": "1d082707-6f30-4ce6-864d-3cbf3de3e019",
   "metadata": {},
   "outputs": [],
   "source": [
    "def score(data):\n",
    "    label_map = {'supports':0,'refutes':1}\n",
    "    gt_label,pred_label=[],[]\n",
    "    for i in data:\n",
    "        if i[\"label\"]== \"NOT ENOUGH INFO\":\n",
    "            continue\n",
    "        gt_label.append(label_map[i[\"label\"]])\n",
    "        pred_label.append(i[\"predict_label\"])\n",
    "    recall,precision = recall_score(gt_label,pred_label),precision_score(gt_label,pred_label)\n",
    "    print(\"accuracy: \",accuracy_score(gt_label,pred_label))\n",
    "    print(\"precision: {}, recall: {}, f1: {}\".format(recall,precision,(2*precision*recall)/(precision+recall)))\n",
    "    print(confusion_matrix(gt_label,pred_label))"
   ]
  },
  {
   "cell_type": "code",
   "execution_count": 27,
   "id": "a6c9a335-19e3-486a-ae4f-f2e26631acc7",
   "metadata": {},
   "outputs": [
    {
     "name": "stdout",
     "output_type": "stream",
     "text": [
      "precision: 0.7366548042704626, recall: 0.7931034482758621, f1: 0.7638376383763837\n",
      "[[393  54]\n",
      " [ 74 207]]\n"
     ]
    }
   ],
   "source": [
    "score(pair_data)"
   ]
  },
  {
   "cell_type": "code",
   "execution_count": 49,
   "id": "12292378-63db-4254-b31c-b24f7c79baa1",
   "metadata": {},
   "outputs": [
    {
     "data": {
      "text/plain": [
       "{'id': 5208,\n",
       " 'claim': '光學顯微鏡是以電磁學原理來將不可見或難見的微小物放大至肉眼可見的儀器。',\n",
       " 'predicted_pages_1': ['顯微鏡', '光學顯微鏡'],\n",
       " 'predicted_evidence': [['顯微鏡', 0],\n",
       "  ['光學顯微鏡', 0],\n",
       "  ['顯微鏡', 6],\n",
       "  ['顯微鏡', 1],\n",
       "  ['光學顯微鏡', 3]],\n",
       " 'enough': 1,\n",
       " 'predict_label': 1}"
      ]
     },
     "execution_count": 49,
     "metadata": {},
     "output_type": "execute_result"
    }
   ],
   "source": [
    "pair_data[0]"
   ]
  },
  {
   "cell_type": "code",
   "execution_count": 40,
   "id": "ac929a4b-4547-40f2-a470-55f87f41b667",
   "metadata": {},
   "outputs": [],
   "source": [
    "with open(\"../pert_large/enough/0522_03/test.jsonl\",\"w\",encoding=\"utf8\",) as f:\n",
    "    for i, d in enumerate(enough_data):\n",
    "        f.write(json.dumps(d, ensure_ascii=False) + \"\\n\")"
   ]
  },
  {
   "cell_type": "markdown",
   "id": "d654704c-ee4a-4825-8528-9224809df6b4",
   "metadata": {},
   "source": [
    "## kfold "
   ]
  },
  {
   "cell_type": "code",
   "execution_count": 55,
   "id": "bee46b55-203f-47e4-8dab-e84d7e0d25c6",
   "metadata": {},
   "outputs": [],
   "source": [
    "TEST_DATA = load_json(\"../pert_large/enough/0522_03_fix/test.jsonl\")\n",
    "preds = load_simple_json(\"../pert_large/claim/0522_03_w_noise_folds/test/test_f1.json\")"
   ]
  },
  {
   "cell_type": "code",
   "execution_count": 60,
   "id": "005c2f02-e8ee-4d11-a65b-b854bd48fd9e",
   "metadata": {},
   "outputs": [
    {
     "data": {
      "text/plain": [
       "1.0"
      ]
     },
     "execution_count": 60,
     "metadata": {},
     "output_type": "execute_result"
    }
   ],
   "source": [
    "np.median([1,1,1,0,0])"
   ]
  },
  {
   "cell_type": "code",
   "execution_count": 68,
   "id": "9428edc8-d5aa-4bec-ac3f-2c179240913e",
   "metadata": {},
   "outputs": [],
   "source": [
    "def join_kf_dic(dics):#majority voting\n",
    "    re_dic={}\n",
    "    for dic in dics:\n",
    "        for key in dic:\n",
    "            if key in re_dic:\n",
    "                re_dic[key]+=[dic[key][\"predict_label\"]]\n",
    "            else:\n",
    "                re_dic[key]=[dic[key][\"predict_label\"]]\n",
    "    for key in re_dic:\n",
    "        re_dic[key] = int(np.median(re_dic[key]))\n",
    "    return re_dic"
   ]
  },
  {
   "cell_type": "code",
   "execution_count": 74,
   "id": "04c82825-613f-45bb-a0aa-b6c6490557b7",
   "metadata": {},
   "outputs": [
    {
     "name": "stdout",
     "output_type": "stream",
     "text": [
      "precision: 0.7943262411347518, recall: 0.7441860465116279, f1: 0.7684391080617496\n",
      "[[373  77]\n",
      " [ 58 224]]\n"
     ]
    }
   ],
   "source": [
    "processed_preds=[]\n",
    "processed_dicts=[]\n",
    "preds = [\"test_f0\",\"test_f1\",\"test_f2\",\"test_f3\",\"test_f4\"]\n",
    "pred_dics =[]\n",
    "thr_param =[]\n",
    "for pred_path in preds:\n",
    "    pred_dics.append(load_simple_json(\"../pert_large/claim/0522_03_w_noise_folds/test/\"+pred_path+\".json\"))\n",
    "pred_dic = join_kf_dic(pred_dics)\n",
    "pred_dic = {key:{\"predict_label\":pred_dic[key]} for key in pred_dic}\n",
    "pair_data = join_pred_data(pred_dic,TEST_DATA)\n",
    "score(pair_data)"
   ]
  },
  {
   "cell_type": "markdown",
   "id": "85a00683-ff87-400a-8f6c-8b5b69cf71cd",
   "metadata": {},
   "source": [
    "## post preocess for adding back removed data"
   ]
  },
  {
   "cell_type": "code",
   "execution_count": 50,
   "id": "924e77ca-be91-45c9-a2d5-4a322207d79a",
   "metadata": {},
   "outputs": [
    {
     "data": {
      "text/plain": [
       "{'id': 5208,\n",
       " 'claim': '光學顯微鏡是以電磁學原理來將不可見或難見的微小物放大至肉眼可見的儀器。',\n",
       " 'predicted_pages_1': ['顯微鏡', '光學顯微鏡'],\n",
       " 'predicted_evidence': [['顯微鏡', 0],\n",
       "  ['光學顯微鏡', 0],\n",
       "  ['顯微鏡', 6],\n",
       "  ['顯微鏡', 1],\n",
       "  ['光學顯微鏡', 3]],\n",
       " 'enough': 1,\n",
       " 'predict_label': 1,\n",
       " 'predicted_label': 'refutes'}"
      ]
     },
     "execution_count": 50,
     "metadata": {},
     "output_type": "execute_result"
    }
   ],
   "source": [
    "label_map = {0:'supports',1:'refutes'}\n",
    "for i in pair_data:\n",
    "    i[\"predicted_label\"]=label_map[i[\"predict_label\"]]\n",
    "pair_data[0]"
   ]
  },
  {
   "cell_type": "code",
   "execution_count": 37,
   "id": "14128035-5497-4d69-9c83-f8b8fd2626c0",
   "metadata": {},
   "outputs": [
    {
     "data": {
      "text/plain": [
       "989"
      ]
     },
     "execution_count": 37,
     "metadata": {},
     "output_type": "execute_result"
    }
   ],
   "source": [
    "ori_data = load_json(\"../preprocess/public_test.jsonl\")\n",
    "len(ori_data)"
   ]
  },
  {
   "cell_type": "code",
   "execution_count": 51,
   "id": "e690221f-a145-4b81-9afc-96bf62b9ed37",
   "metadata": {},
   "outputs": [],
   "source": [
    "mapping_idx = {d[\"id\"]:idx for idx,d in enumerate(pair_data)}\n",
    "re_lst = []\n",
    "for d in ori_data:\n",
    "    if d[\"id\"] in mapping_idx.keys():\n",
    "        data = pair_data[mapping_idx[d[\"id\"]]]\n",
    "        re_lst.append({\"id\":data[\"id\"],\"predicted_label\":data[\"predicted_label\"],\"predicted_evidence\":data[\"predicted_evidence\"]})\n",
    "    else:\n",
    "        re_lst.append({\"id\":d[\"id\"],\"predicted_label\":\"NOT ENOUGH INFO\",\"predicted_evidence\":None})"
   ]
  },
  {
   "cell_type": "code",
   "execution_count": 52,
   "id": "448bb596-c6cc-4d6a-b243-2cfe75b0dbad",
   "metadata": {},
   "outputs": [
    {
     "data": {
      "text/plain": [
       "989"
      ]
     },
     "execution_count": 52,
     "metadata": {},
     "output_type": "execute_result"
    }
   ],
   "source": [
    "len(re_lst)"
   ]
  },
  {
   "cell_type": "code",
   "execution_count": 53,
   "id": "4c247078-f037-435f-b2c1-b4e505a6d856",
   "metadata": {},
   "outputs": [],
   "source": [
    "with open(\"../submissions/pub_test_v1.jsonl\",\"w\",encoding=\"utf8\",) as f:\n",
    "    for i, d in enumerate(re_lst):\n",
    "        f.write(json.dumps(d, ensure_ascii=False) + \"\\n\")"
   ]
  },
  {
   "cell_type": "code",
   "execution_count": null,
   "id": "8d547ca7-c7a4-4126-8a27-165e46c5d649",
   "metadata": {},
   "outputs": [],
   "source": []
  }
 ],
 "metadata": {
  "kernelspec": {
   "display_name": "IR_NLP",
   "language": "python",
   "name": "ir_nlp"
  },
  "language_info": {
   "codemirror_mode": {
    "name": "ipython",
    "version": 3
   },
   "file_extension": ".py",
   "mimetype": "text/x-python",
   "name": "python",
   "nbconvert_exporter": "python",
   "pygments_lexer": "ipython3",
   "version": "3.8.10"
  }
 },
 "nbformat": 4,
 "nbformat_minor": 5
}
