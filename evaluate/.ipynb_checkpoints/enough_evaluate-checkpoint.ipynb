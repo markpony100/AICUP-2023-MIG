{
 "cells": [
  {
   "cell_type": "code",
   "execution_count": 14,
   "id": "fa78049b-06a4-4197-b3ec-31ff702b4124",
   "metadata": {},
   "outputs": [],
   "source": [
    "#from \n",
    "import json\n",
    "from dataclasses import dataclass\n",
    "import pandas as pd\n",
    "import sys\n",
    "import numpy as np\n",
    "sys.path.append('../')\n",
    "from utils import load_simple_json,load_json\n",
    "from sklearn.metrics import recall_score,precision_score,confusion_matrix,accuracy_score"
   ]
  },
  {
   "cell_type": "markdown",
   "id": "4cd16b58-a515-4969-9cc3-29b946a46e35",
   "metadata": {},
   "source": [
    "kfold data"
   ]
  },
  {
   "cell_type": "code",
   "execution_count": 15,
   "id": "4b74de3e-d604-4553-9791-d6871856e177",
   "metadata": {},
   "outputs": [],
   "source": [
    "def join_pred_data(pred_dic,data,key_word=\"enough\"):\n",
    "    re_lst=[]\n",
    "    data_map = {i[\"id\"]:idx for idx,i in enumerate(data)}\n",
    "    for key in pred_dic:\n",
    "        buf=None\n",
    "        if int(key) in data_map.keys():\n",
    "            buf = data[data_map[int(key)]]\n",
    "            buf[key_word]=pred_dic[key]['predict_label']\n",
    "            re_lst.append(buf)\n",
    "    return re_lst"
   ]
  },
  {
   "cell_type": "code",
   "execution_count": 16,
   "id": "b96822e5-bd00-4a00-a99f-7c43749786e5",
   "metadata": {},
   "outputs": [],
   "source": [
    "def join_kf_dic(in_dics,thresh=None):#majority voting\n",
    "    dics=in_dics.copy()\n",
    "    re_dic={}\n",
    "    for dic in dics:\n",
    "        for key in dic:\n",
    "            if key in re_dic:\n",
    "                re_dic[key]+=[dic[key][\"prob\"]]\n",
    "            else:\n",
    "                re_dic[key]=[dic[key][\"prob\"]]\n",
    "    for key in re_dic:\n",
    "        if thresh:\n",
    "            re_dic[key]=sum(np.array(re_dic[key]))/len(in_dics)\n",
    "        else:\n",
    "            re_dic[key] = int(np.median(re_dic[key]))\n",
    "    return re_dic"
   ]
  },
  {
   "cell_type": "code",
   "execution_count": 5,
   "id": "1d082707-6f30-4ce6-864d-3cbf3de3e019",
   "metadata": {},
   "outputs": [],
   "source": [
    "def score(data):\n",
    "    label_map = {'supports':1,'refutes':1,\"NOT ENOUGH INFO\":0}\n",
    "    gt_label = [label_map[i[\"label\"]] for i in data]\n",
    "    pred_label = [i[\"enough\"] for i in data]\n",
    "    recall,precision = recall_score(gt_label,pred_label),precision_score(gt_label,pred_label)\n",
    "    print(\"accuracy: \",accuracy_score(gt_label,pred_label))\n",
    "    print(\"precision: {}, recall: {}, f1: {}\".format(recall,precision,(2*precision*recall)/(precision+recall)))\n",
    "    print(confusion_matrix(gt_label,pred_label))"
   ]
  },
  {
   "cell_type": "code",
   "execution_count": 27,
   "id": "d1a09a56-56fd-4832-a740-fcbcb86115b3",
   "metadata": {},
   "outputs": [
    {
     "data": {
      "text/plain": [
       "8597"
      ]
     },
     "execution_count": 27,
     "metadata": {},
     "output_type": "execute_result"
    }
   ],
   "source": [
    "#TEST_DATA = load_json(\"../pert_large/sent/0522_base_clu_folds_PN13/test_ens5.jsonl\")\n",
    "TEST_DATA = load_json(\"../pert_large/sent/0522_base_clu_folds_PN13/all_test_clu_page_sent_ens5.jsonl\")\n",
    "len(TEST_DATA)"
   ]
  },
  {
   "cell_type": "code",
   "execution_count": 28,
   "id": "47ed4bd2-fb62-4bfc-bf04-0d7d766685b1",
   "metadata": {},
   "outputs": [
    {
     "data": {
      "text/plain": [
       "{'id': 21498,\n",
       " 'claim': '雞形目的鳥腿腳強健，擅長在地面奔跑，其中有珍稀物種，體態雄健優美、顏色鮮豔；也有經濟物種，與人類關係密切。',\n",
       " 'predicted_pages_1': ['雞形目'],\n",
       " 'predicted_evidence': [['雞形目', 2], ['雞形目', 3], ['雞形目', 0], ['雞形目', 1]]}"
      ]
     },
     "execution_count": 28,
     "metadata": {},
     "output_type": "execute_result"
    }
   ],
   "source": [
    "TEST_DATA[0]"
   ]
  },
  {
   "cell_type": "code",
   "execution_count": 29,
   "id": "9b3f1bc4-97e8-4ab1-ac72-f80bed03ebf9",
   "metadata": {},
   "outputs": [],
   "source": [
    "processed_preds=[]\n",
    "processed_dicts=[]\n",
    "#preds = [\"test_f0\",\"test_f1\",\"test_f2\",\"test_f3\",\"test_f4\"]\n",
    "preds = [\"all_test_f0\",\"all_test_f1\",\"all_test_f2\",\"all_test_f3\",\"all_test_f4\"]\n",
    "#preds = [\"test_f0\"]\n",
    "pred_dics =[]\n",
    "thr_param =[]\n",
    "for pred_path in preds:\n",
    "    pred_dics.append(load_simple_json(\"../pert_large/enough/0522_nclu_neg_no_pid_folds/all_test/\"+pred_path+\".json\"))\n",
    "pred_dic = join_kf_dic(pred_dics,thresh=0.05)\n",
    "pred_dic = {key:{\"predict_label\":pred_dic[key]} for key in pred_dic}\n",
    "pair_data = join_pred_data(pred_dic,TEST_DATA)\n",
    "#score(pair_data)"
   ]
  },
  {
   "cell_type": "code",
   "execution_count": 30,
   "id": "5ce8a93e-e39a-405e-b65a-c832932deb63",
   "metadata": {},
   "outputs": [
    {
     "data": {
      "text/plain": [
       "{'id': 21498,\n",
       " 'claim': '雞形目的鳥腿腳強健，擅長在地面奔跑，其中有珍稀物種，體態雄健優美、顏色鮮豔；也有經濟物種，與人類關係密切。',\n",
       " 'predicted_pages_1': ['雞形目'],\n",
       " 'predicted_evidence': [['雞形目', 2], ['雞形目', 3], ['雞形目', 0], ['雞形目', 1]],\n",
       " '21498': 0.9632043480873108}"
      ]
     },
     "execution_count": 30,
     "metadata": {},
     "output_type": "execute_result"
    }
   ],
   "source": [
    "pair_data[0]"
   ]
  },
  {
   "cell_type": "code",
   "execution_count": 25,
   "id": "e438197b-806a-45bb-84d4-f9f6bf16ace5",
   "metadata": {},
   "outputs": [],
   "source": [
    "processed_preds=[]\n",
    "processed_dicts=[]\n",
    "#preds = [\"test_f0\",\"test_f1\",\"test_f2\",\"test_f3\",\"test_f4\"]\n",
    "preds = [\"all_test_f0\",\"all_test_f1\",\"all_test_f2\",\"all_test_f3\",\"all_test_f4\"]\n",
    "#preds = [\"test_f0\"]\n",
    "pred_dics =[]\n",
    "thr_param =[]\n",
    "for pred_path in preds:\n",
    "    pred_dics.append(load_simple_json(\"../pert_large/enough/0522_nclu_neg_no_pid_folds/all_test/\"+pred_path+\".json\"))\n",
    "pred_dic = join_kf_dic(pred_dics,thresh=0.05)\n",
    "pred_dic = {key:{\"predict_label\":pred_dic[key]} for key in pred_dic}\n",
    "pair_data = join_pred_data(pred_dic,pair_data,key=\"predicted_label\")"
   ]
  },
  {
   "cell_type": "code",
   "execution_count": 26,
   "id": "cc1fa1ce-5432-4c9d-a7fd-fec942256e79",
   "metadata": {
    "tags": []
   },
   "outputs": [
    {
     "data": {
      "text/plain": [
       "[{'id': 21498,\n",
       "  'claim': '雞形目的鳥腿腳強健，擅長在地面奔跑，其中有珍稀物種，體態雄健優美、顏色鮮豔；也有經濟物種，與人類關係密切。',\n",
       "  'predicted_pages_1': ['雞形目'],\n",
       "  'predicted_evidence': [['雞形目', 2], ['雞形目', 3], ['雞形目', 0], ['雞形目', 1]],\n",
       "  '21498': 0.9632043480873108}]"
      ]
     },
     "execution_count": 26,
     "metadata": {},
     "output_type": "execute_result"
    }
   ],
   "source": [
    "pair_data[:1]"
   ]
  },
  {
   "cell_type": "code",
   "execution_count": 281,
   "id": "bdc079a4-dc22-417a-9b33-9428f116b079",
   "metadata": {},
   "outputs": [],
   "source": [
    "def change_label(data):\n",
    "    change_count=0\n",
    "    enough_count=0\n",
    "    for d in data:\n",
    "        if d[\"label\"]==\"NOT ENOUGH INFO\":\n",
    "            continue\n",
    "        enough_count+=1\n",
    "        evidss = d[\"evidence\"]\n",
    "        preds = d[\"predicted_evidence\"]\n",
    "        at_least_get_one = False\n",
    "        for evids in evidss:\n",
    "            hit_count=0\n",
    "            for evid in evids:\n",
    "                if evid[2:] in preds:\n",
    "                    hit_count+=1\n",
    "            if hit_count == len(evids):\n",
    "                at_least_get_one=True\n",
    "        if not at_least_get_one:\n",
    "            change_count+=1\n",
    "            d[\"label\"]=\"NOT ENOUGH INFO\"\n",
    "    print(\"changed rate: \",change_count/enough_count)\n",
    "    print(\"at least get sent ratio: \",(enough_count-change_count)/enough_count)\n",
    "                    "
   ]
  },
  {
   "cell_type": "markdown",
   "id": "b9697997-2fad-4869-af7b-82986e227997",
   "metadata": {},
   "source": [
    "TEST data"
   ]
  },
  {
   "cell_type": "code",
   "execution_count": 415,
   "id": "92210d07-36e0-4676-baed-ee969167bf44",
   "metadata": {},
   "outputs": [
    {
     "data": {
      "text/plain": [
       "1099"
      ]
     },
     "execution_count": 415,
     "metadata": {},
     "output_type": "execute_result"
    }
   ],
   "source": [
    "TEST_DATA = load_json(\"../pert_large/sent/0522_base_clu_folds_PN13/test_ens5.jsonl\")\n",
    "len(TEST_DATA)"
   ]
  },
  {
   "cell_type": "code",
   "execution_count": 283,
   "id": "b98d0f5a-928d-4d5c-9069-211cf612174a",
   "metadata": {},
   "outputs": [
    {
     "name": "stdout",
     "output_type": "stream",
     "text": [
      "changed rate:  0.12790697674418605\n",
      "at least get sent ratio:  0.872093023255814\n"
     ]
    }
   ],
   "source": [
    "change_label(TEST_DATA)"
   ]
  },
  {
   "cell_type": "code",
   "execution_count": 339,
   "id": "94cf48de-b868-4055-8f83-b6696c0cbf9e",
   "metadata": {},
   "outputs": [],
   "source": [
    "preds = load_simple_json(\"../pert_large/enough/0522_fix_neg_no_pid_folds/test_f0_.json\")#test_ens4_p74"
   ]
  },
  {
   "cell_type": "code",
   "execution_count": 340,
   "id": "09b2e7d9-5127-4870-90d1-6989a143e3ed",
   "metadata": {},
   "outputs": [],
   "source": [
    "pair_data = join_pred_data(preds,TEST_DATA)"
   ]
  },
  {
   "cell_type": "code",
   "execution_count": 341,
   "id": "e7bb7071-21b9-43e8-87cf-f90371548993",
   "metadata": {},
   "outputs": [
    {
     "name": "stdout",
     "output_type": "stream",
     "text": [
      "accuracy:  0.7834394904458599\n",
      "precision: 0.8591731266149871, recall: 0.8375314861460957, f1: 0.8482142857142858\n",
      "[[196 129]\n",
      " [109 665]]\n"
     ]
    }
   ],
   "source": [
    "score(pair_data)"
   ]
  },
  {
   "cell_type": "code",
   "execution_count": 534,
   "id": "5522aef1-fe81-4009-9f3f-05238b1b4e51",
   "metadata": {},
   "outputs": [
    {
     "data": {
      "text/plain": [
       "{'id': 21498,\n",
       " 'claim': '雞形目的鳥腿腳強健，擅長在地面奔跑，其中有珍稀物種，體態雄健優美、顏色鮮豔；也有經濟物種，與人類關係密切。',\n",
       " 'predicted_pages_1': ['雞形目'],\n",
       " 'predicted_evidence': [['雞形目', 2], ['雞形目', 3], ['雞形目', 0], ['雞形目', 1]],\n",
       " 'enough': 0.9632043480873108}"
      ]
     },
     "execution_count": 534,
     "metadata": {},
     "output_type": "execute_result"
    }
   ],
   "source": [
    "pair_data[0]"
   ]
  },
  {
   "cell_type": "code",
   "execution_count": 197,
   "id": "9a4fbde7-abad-488c-aa4a-8579f05588e3",
   "metadata": {
    "tags": []
   },
   "outputs": [
    {
     "data": {
      "text/plain": [
       "80"
      ]
     },
     "execution_count": 197,
     "metadata": {},
     "output_type": "execute_result"
    }
   ],
   "source": [
    "label_map = {'supports':1,'refutes':1,\"NOT ENOUGH INFO\":0}\n",
    "t = [i for i in pair_data if i[\"label\"] != \"NOT ENOUGH INFO\" and i[\"enough\"]==0]\n",
    "len([i for i in t if i[\"label\"]!=\"supports\"])"
   ]
  },
  {
   "cell_type": "code",
   "execution_count": 490,
   "id": "b3257f16-ba72-4282-a70f-249ca0c73a9c",
   "metadata": {},
   "outputs": [
    {
     "data": {
      "text/plain": [
       "0.7866697685239037"
      ]
     },
     "execution_count": 490,
     "metadata": {},
     "output_type": "execute_result"
    }
   ],
   "source": [
    "len([i for i in pair_data if i[\"enough\"] == 1])/len(pair_data)"
   ]
  },
  {
   "cell_type": "code",
   "execution_count": 535,
   "id": "ac929a4b-4547-40f2-a470-55f87f41b667",
   "metadata": {},
   "outputs": [],
   "source": [
    "with open(\"../pert_large/enough/0522_nclu_neg_no_pid_folds/all_test_clu_page_sent_nclu_e01_ens5_prob.jsonl\",\"w\",encoding=\"utf8\",) as f:\n",
    "    for i, d in enumerate(pair_data):\n",
    "        f.write(json.dumps(d, ensure_ascii=False) + \"\\n\")"
   ]
  },
  {
   "cell_type": "code",
   "execution_count": 519,
   "id": "42b657aa-4a0e-4c43-b08f-67a1874980e1",
   "metadata": {},
   "outputs": [
    {
     "data": {
      "text/plain": [
       "8597"
      ]
     },
     "execution_count": 519,
     "metadata": {},
     "output_type": "execute_result"
    }
   ],
   "source": [
    "len(pair_data)"
   ]
  },
  {
   "cell_type": "code",
   "execution_count": null,
   "id": "b74b9c3b-2bcc-4b29-b734-8741165e55f0",
   "metadata": {},
   "outputs": [],
   "source": []
  }
 ],
 "metadata": {
  "kernelspec": {
   "display_name": "IR_NLP",
   "language": "python",
   "name": "ir_nlp"
  },
  "language_info": {
   "codemirror_mode": {
    "name": "ipython",
    "version": 3
   },
   "file_extension": ".py",
   "mimetype": "text/x-python",
   "name": "python",
   "nbconvert_exporter": "python",
   "pygments_lexer": "ipython3",
   "version": "3.8.10"
  }
 },
 "nbformat": 4,
 "nbformat_minor": 5
}
