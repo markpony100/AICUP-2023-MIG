{
 "cells": [
  {
   "cell_type": "code",
   "execution_count": 20,
   "id": "8be0e938-cafa-40c9-9c1b-800ea8449d9e",
   "metadata": {},
   "outputs": [],
   "source": [
    "# built-in libs\n",
    "import json\n",
    "import pickle\n",
    "import re\n",
    "from dataclasses import dataclass\n",
    "from pathlib import Path\n",
    "from typing import Dict, List, Set, Tuple, Union\n",
    "\n",
    "# 3rd party libs\n",
    "import hanlp\n",
    "import opencc\n",
    "import pandas as pd\n",
    "import wikipedia\n",
    "from hanlp.components.pipeline import Pipeline\n",
    "from pandarallel import pandarallel\n",
    "import random\n",
    "import time\n",
    "import sys\n",
    "sys.path.append('../')\n",
    "# our own libs\n",
    "from utils import load_json,generate_evidence_to_wiki_pages_mapping,jsonl_dir_to_df,load_simple_json\n",
    "import os\n",
    "os.environ[\"CUDA_DEVICE_ORDER\"] = \"PCI_BUS_ID\"\n",
    "os.environ[\"CUDA_VISIBLE_DEVICES\"] = \"0\"\n",
    "pandarallel.initialize(progress_bar=True, verbose=0, nb_workers=10)\n",
    "wikipedia.set_lang(\"zh\")"
   ]
  },
  {
   "cell_type": "code",
   "execution_count": 2,
   "id": "3d6043f5-bb80-4624-9ccd-57fe5b0e4125",
   "metadata": {},
   "outputs": [],
   "source": [
    "DATA = load_json(\"../pert_large/sent_data/val_test_doc100_cluster_rerank_thr001_sent_top5.jsonl\")\n",
    "pred_data = load_json(\"../pert_large/claim/val_doc_cluster_top5.jsonl\")"
   ]
  },
  {
   "cell_type": "code",
   "execution_count": 4,
   "id": "03ad168d-3f3d-4833-975f-c46348593645",
   "metadata": {
    "tags": []
   },
   "outputs": [
    {
     "name": "stdout",
     "output_type": "stream",
     "text": [
      "Reading and concatenating jsonl files in ../../baseline/data/wiki-pages\n",
      "Generate parse mapping\n"
     ]
    },
    {
     "data": {
      "application/vnd.jupyter.widget-view+json": {
       "model_id": "765fcc8caa534e09be0227631f109e45",
       "version_major": 2,
       "version_minor": 0
      },
      "text/plain": [
       "VBox(children=(HBox(children=(IntProgress(value=0, description='0.00%', max=118776), Label(value='0 / 118776')…"
      ]
     },
     "metadata": {},
     "output_type": "display_data"
    },
    {
     "name": "stdout",
     "output_type": "stream",
     "text": [
      "Transform to id to evidence_map mapping\n"
     ]
    }
   ],
   "source": [
    "wiki_pages = jsonl_dir_to_df(\"../../baseline/data/wiki-pages\")\n",
    "mapping = generate_evidence_to_wiki_pages_mapping(wiki_pages)\n",
    "del wiki_pages"
   ]
  },
  {
   "cell_type": "code",
   "execution_count": 7,
   "id": "e2aa4b28-1468-4251-ac4f-be4bf39cf8f6",
   "metadata": {},
   "outputs": [],
   "source": [
    "def pair_with_wiki_sentences(mapping,df) -> pd.DataFrame:\n",
    "    \"\"\"Only for creating train sentences.\"\"\"\n",
    "    claims = []\n",
    "    sentences = []\n",
    "    labels = []\n",
    "    re_lst =[]\n",
    "    # positive\n",
    "    for i in range(len(df)):\n",
    "        if df[i][\"label\"] == \"NOT ENOUGH INFO\" :\n",
    "            df[i][\"evidence_sentence\"]=[]\n",
    "            continue\n",
    "        claim = df[i][\"claim\"]\n",
    "        evidence_sets = df[i][\"evidence\"]\n",
    "        evid_dic ={}\n",
    "        evid_sent =[]\n",
    "        for evidence_set in evidence_sets:\n",
    "            sents = []\n",
    "            for evidence in evidence_set:\n",
    "                # evidence[2] is the page title\n",
    "                page = evidence[2].replace(\" \", \"_\")\n",
    "                if page == '臺灣海峽危機#第二次臺灣海峽危機（1958）':\n",
    "                    continue\n",
    "                sent_idx = str(evidence[3])\n",
    "                sents.append(mapping[page][sent_idx])\n",
    "            evid_sent.append(sents)\n",
    "        # if i ==0:\n",
    "        #     evid_sent=[evid_sent]\n",
    "        df[i][\"evidence_sentence\"] = evid_sent\n",
    "    return df"
   ]
  },
  {
   "cell_type": "code",
   "execution_count": 8,
   "id": "65e75108-c7a0-4e64-9822-2b7240d9cb82",
   "metadata": {},
   "outputs": [],
   "source": [
    "evid_df = pair_with_wiki_sentences(mapping,DATA)"
   ]
  },
  {
   "cell_type": "code",
   "execution_count": 9,
   "id": "0a03adb1-c525-4da8-8d87-c548865994bd",
   "metadata": {},
   "outputs": [
    {
     "data": {
      "text/plain": [
       "{'id': 2663,\n",
       " 'label': 'refutes',\n",
       " 'claim': '天衛三軌道在天王星內部的磁層，以《 仲夏夜之夢 》作者緹坦妮雅命名。',\n",
       " 'evidence': [[[4209, 4331, '天衛三', 2]]],\n",
       " 'predicted_pages': ['軌道',\n",
       "  '磁層',\n",
       "  '仲夏夜_(羅文專輯)',\n",
       "  '天衛三',\n",
       "  '作者',\n",
       "  '緹坦妮雅',\n",
       "  '天王星',\n",
       "  '仲夏夜之夢_(消歧義)',\n",
       "  '夢'],\n",
       " 'predicted_evidence': [['天衛三', 2],\n",
       "  ['天衛三', 3],\n",
       "  ['天衛三', 0],\n",
       "  ['天衛三', 1],\n",
       "  ['天衛三', 8]],\n",
       " 'evidence_sentence': [['1787年由威廉 · 赫歇爾發現 ， 並以威廉 · 莎士比亞的 《 仲夏夜之夢 》 中的妖精王后緹坦妮雅命名 。']]}"
      ]
     },
     "execution_count": 9,
     "metadata": {},
     "output_type": "execute_result"
    }
   ],
   "source": [
    "evid_df[0]"
   ]
  },
  {
   "cell_type": "code",
   "execution_count": 10,
   "id": "d778d3e6-2c6a-4fc6-b2ae-304a728caf33",
   "metadata": {},
   "outputs": [],
   "source": [
    "def pair_with_preds(data,pred_data):\n",
    "    id_map = {i[\"id\"]:idx for idx,i in enumerate(pred_data)}\n",
    "    re_lst =[]\n",
    "    for d in data:\n",
    "        if d[\"id\"] in id_map.keys():\n",
    "            d[\"predicted_label\"]=pred_data[id_map[d[\"id\"]]][\"predicted_label\"]\n",
    "            d[\"predicted_evidence\"]=pred_data[id_map[d[\"id\"]]][\"predicted_evidence\"]\n",
    "            buf_lst = []\n",
    "            for i in d[\"predicted_evidence\"]:\n",
    "                buf_lst.append(mapping[i[0]][str(i[1])])\n",
    "            d[\"predicted_sentnece\"] = buf_lst\n",
    "        else:\n",
    "            d[\"predicted_label\"]=[]\n",
    "            d[\"predicted_evidence\"]=[]\n",
    "        re_lst.append(d)\n",
    "    return re_lst"
   ]
  },
  {
   "cell_type": "code",
   "execution_count": 11,
   "id": "217f9179-0009-47c1-ae05-ad59c2686e23",
   "metadata": {
    "collapsed": true,
    "jupyter": {
     "outputs_hidden": true
    },
    "tags": []
   },
   "outputs": [
    {
     "data": {
      "text/plain": [
       "[{'id': 2663,\n",
       "  'label': 'refutes',\n",
       "  'claim': '天衛三軌道在天王星內部的磁層，以《 仲夏夜之夢 》作者緹坦妮雅命名。',\n",
       "  'evidence': [[[4209, 4331, '天衛三', 2]]],\n",
       "  'predicted_pages': ['軌道',\n",
       "   '磁層',\n",
       "   '仲夏夜_(羅文專輯)',\n",
       "   '天衛三',\n",
       "   '作者',\n",
       "   '緹坦妮雅',\n",
       "   '天王星',\n",
       "   '仲夏夜之夢_(消歧義)',\n",
       "   '夢'],\n",
       "  'predicted_evidence': [['天衛三', 2],\n",
       "   ['天衛三', 3],\n",
       "   ['天衛三', 0],\n",
       "   ['天衛三', 1],\n",
       "   ['天衛三', 8]],\n",
       "  'evidence_sentence': [['1787年由威廉 · 赫歇爾發現 ， 並以威廉 · 莎士比亞的 《 仲夏夜之夢 》 中的妖精王后緹坦妮雅命名 。']],\n",
       "  'predicted_label': 'supports',\n",
       "  'predicted_sentnece': ['1787年由威廉 · 赫歇爾發現 ， 並以威廉 · 莎士比亞的 《 仲夏夜之夢 》 中的妖精王后緹坦妮雅命名 。',\n",
       "   '它的軌道位於天王星的內部磁層 。',\n",
       "   '天衛三 （ 緹坦妮雅 、 Titania 、 -LSB- link - entaɪˈteɪniə -RSB- ） 是天王星最大的衛星 ， 也是太陽系內第八大的衛星 。',\n",
       "   '直徑爲 1,578 公里 （ 981英里 ） ， 。',\n",
       "   '表面覆滿了火山灰 。']},\n",
       " {'id': 7551,\n",
       "  'label': 'supports',\n",
       "  'claim': '毒魚豆的萃取物被西印度群島的原住民發掘可以導致魚麻醉安靜 ， 讓他們得以趁機徒手抓魚 。',\n",
       "  'evidence': [[[6825, 6546, '毒魚豆', 4]]],\n",
       "  'predicted_pages': ['魚', '西', '印度', '毒魚豆', '萃取', '原住民'],\n",
       "  'predicted_evidence': [['毒魚豆', 4],\n",
       "   ['毒魚豆', 6],\n",
       "   ['毒魚豆', 0],\n",
       "   ['毒魚豆', 10],\n",
       "   ['毒魚豆', 5]],\n",
       "  'evidence_sentence': [['西印度群島的原住民發現這種植物的提取物可以令魚麻醉安靜 ， 讓他們可以徒手抓魚 。']],\n",
       "  'predicted_label': 'refutes',\n",
       "  'predicted_sentnece': ['西印度群島的原住民發現這種植物的提取物可以令魚麻醉安靜 ， 讓他們可以徒手抓魚 。',\n",
       "   '毒魚豆具有藥用價值 ， 可以做鎮痛藥及鎮靜劑 。',\n",
       "   '毒魚豆 （ 學名 ： ） ， 又名牙買加山茱萸 、 佛羅里達毒魚木 ， 是豆科毒魚豆屬的一種木本植物 。',\n",
       "   '種小名piscipula是 「 小魚 」 的意思 。',\n",
       "   '俗名毒魚木 、 醉魚木也是得名自這種功用 。']},\n",
       " {'id': 4688,\n",
       "  'label': 'supports',\n",
       "  'claim': '軟件開發是一項包括需求獲取 、 開發規劃 、 需求分析和設計 、 編程實現 、 軟件測試 、 版本控制的系統工程，其中包含任何最終獲得軟件產品的活動 。',\n",
       "  'evidence': [[[4631, 4702, '軟件開發', 1], [4631, 4702, '軟件開發', 2]]],\n",
       "  'predicted_pages': ['軟件開發', '軟件測試', '活動', '版本控制', '系統工程', '軟件'],\n",
       "  'predicted_evidence': [['軟件開發', 1],\n",
       "   ['軟件開發', 2],\n",
       "   ['軟件開發', 9],\n",
       "   ['軟件開發', 7],\n",
       "   ['軟件開發', 0]],\n",
       "  'evidence_sentence': [['軟件開發是一項包括需求獲取 、 開發規劃 、 需求分析和設計 、 編程實現 、 軟件測試 、 版本控制的系統工程 。',\n",
       "    '換句話說 ， 軟件開發就是一系列最終構建出軟件產品的活動 。']],\n",
       "  'predicted_label': 'refutes',\n",
       "  'predicted_sentnece': ['軟件開發是一項包括需求獲取 、 開發規劃 、 需求分析和設計 、 編程實現 、 軟件測試 、 版本控制的系統工程 。',\n",
       "   '換句話說 ， 軟件開發就是一系列最終構建出軟件產品的活動 。',\n",
       "   '通常採用軟件開發工具可以進行開發 。',\n",
       "   '“ 軟件開發 ” 一詞還可能是指計算機編程 ， 也就是編寫和維護源代碼的過程 。',\n",
       "   '軟件開發 （ Software development ） 是根據用戶要求建造出軟件系統或者系統中軟件部分的一個產品開發的過程 。']},\n",
       " {'id': 8496,\n",
       "  'label': 'supports',\n",
       "  'claim': '國立臺灣大學應用力學研究所從1984年開始招收碩 、 博士班研究生 ， 首任所長爲理論及應用力學專家 ， 美國國家工程院院士 、 中央研究院院士鮑亦興教授 。',\n",
       "  'evidence': [[[7667, 7249, '國立臺灣大學應用力學研究所', 3]]],\n",
       "  'predicted_pages': ['班',\n",
       "   '國立臺灣大學',\n",
       "   '研究生',\n",
       "   '理論',\n",
       "   '研究所',\n",
       "   '1984年',\n",
       "   '院士',\n",
       "   '中央研究院院士',\n",
       "   '國立臺灣大學應用力學研究所',\n",
       "   '美國國家工程院',\n",
       "   '力學',\n",
       "   '鮑亦興',\n",
       "   '中央研究院'],\n",
       "  'predicted_evidence': [['國立臺灣大學應用力學研究所', 3],\n",
       "   ['國立臺灣大學應用力學研究所', 1],\n",
       "   ['國立臺灣大學應用力學研究所', 0],\n",
       "   ['國立臺灣大學應用力學研究所', 2]],\n",
       "  'evidence_sentence': [['於1984年招收第一屆碩 、 博士班研究生 ， 首任所長爲理論及應用力學專家 ， 美國國家工程院院士 、 中央研究院院士鮑亦興教授 。']],\n",
       "  'predicted_label': 'supports',\n",
       "  'predicted_sentnece': ['於1984年招收第一屆碩 、 博士班研究生 ， 首任所長爲理論及應用力學專家 ， 美國國家工程院院士 、 中央研究院院士鮑亦興教授 。',\n",
       "   '於1983年 ， 由虞兆中校長 、 中山科學研究院黃孝宗代院長合議決定委請美國康乃爾大學鮑亦興教授負責規劃籌設 。',\n",
       "   '國立臺灣大學應用力學研究所  ， 簡稱臺灣大學應力所 、 臺大應力所 。',\n",
       "   '展開設所籌備工作 ， 徵聘教師 ， 葉超雄教授主持招生等事宜 。']}]"
      ]
     },
     "execution_count": 11,
     "metadata": {},
     "output_type": "execute_result"
    }
   ],
   "source": [
    "final_val = pair_with_preds(evid_df,pred_data)\n",
    "final_val[:4]"
   ]
  },
  {
   "cell_type": "code",
   "execution_count": 12,
   "id": "b633655c-4277-4e53-8538-cf4c68a93b7e",
   "metadata": {},
   "outputs": [],
   "source": [
    "def pair_with_preds_page(data,pred_data):\n",
    "    id_map = {i[\"id\"]:idx for idx,i in enumerate(pred_data)}\n",
    "    re_lst =[]\n",
    "    for d in data:\n",
    "        if d[\"id\"] in id_map.keys():\n",
    "            d[\"predicted_pages_1\"]=pred_data[id_map[d[\"id\"]]][\"predicted_pages_1\"]\n",
    "        else:\n",
    "            d[\"predicted_pages_1\"]=[]\n",
    "        re_lst.append(d)\n",
    "    return re_lst"
   ]
  },
  {
   "cell_type": "code",
   "execution_count": 67,
   "id": "3136ee23-c474-420d-a69d-2ac7db56be29",
   "metadata": {},
   "outputs": [
    {
     "data": {
      "text/plain": [
       "2739"
      ]
     },
     "execution_count": 67,
     "metadata": {},
     "output_type": "execute_result"
    }
   ],
   "source": [
    "page_data = load_json(\"../pert_large/page_data/train_test_doc100_cluster_thr001.jsonl\")\n",
    "len(page_data)"
   ]
  },
  {
   "cell_type": "code",
   "execution_count": 69,
   "id": "de4d8cc6-1fd5-4a8d-92ee-611393cf97ac",
   "metadata": {},
   "outputs": [],
   "source": [
    "page_data_id = sorted([i[\"id\"] for i in page_data])"
   ]
  },
  {
   "cell_type": "code",
   "execution_count": 68,
   "id": "88a95885-b0f7-4c80-a704-edbc552bd719",
   "metadata": {},
   "outputs": [
    {
     "data": {
      "text/plain": [
       "2505"
      ]
     },
     "execution_count": 68,
     "metadata": {},
     "output_type": "execute_result"
    }
   ],
   "source": [
    "sent_data = load_json(\"../pert_large/sent_data/train_test_doc100_cluster_rerank_thr001_sent_top5.jsonl\")\n",
    "len(sent_data)"
   ]
  },
  {
   "cell_type": "code",
   "execution_count": 70,
   "id": "98419ad5-a066-4bd1-8912-335383de6543",
   "metadata": {},
   "outputs": [],
   "source": [
    "sent_data_id = sorted([i[\"id\"] for i in sent_data])"
   ]
  },
  {
   "cell_type": "code",
   "execution_count": 71,
   "id": "1e70db65-516f-4260-98aa-db9ebd0625d3",
   "metadata": {},
   "outputs": [
    {
     "data": {
      "text/plain": [
       "[71, 72, 73, 83, 84, 86, 87, 89, 92, 93]"
      ]
     },
     "execution_count": 71,
     "metadata": {},
     "output_type": "execute_result"
    }
   ],
   "source": [
    "page_data_id[:10]"
   ]
  },
  {
   "cell_type": "code",
   "execution_count": 90,
   "id": "9d743490-82c0-4013-a7cf-2753023da3d7",
   "metadata": {},
   "outputs": [
    {
     "data": {
      "text/plain": [
       "[55, 60, 71, 72, 73, 75, 79, 83, 89, 91]"
      ]
     },
     "execution_count": 90,
     "metadata": {},
     "output_type": "execute_result"
    }
   ],
   "source": [
    "(sent_data_id)[:10]"
   ]
  },
  {
   "cell_type": "code",
   "execution_count": 74,
   "id": "fd37d6d7-f865-4701-9450-f65785bf0b8c",
   "metadata": {},
   "outputs": [
    {
     "data": {
      "text/plain": [
       "2505"
      ]
     },
     "execution_count": 74,
     "metadata": {},
     "output_type": "execute_result"
    }
   ],
   "source": [
    "b = (load_simple_json(\"../pert_large/sent/doc100_cluster_e20_b8_recall/train_test.json\"))\n",
    "len(b.keys())"
   ]
  },
  {
   "cell_type": "code",
   "execution_count": 78,
   "id": "a374139b-622e-4093-8cbf-749524631d7a",
   "metadata": {},
   "outputs": [
    {
     "data": {
      "text/plain": [
       "[55, 60, 71, 72, 73, 75, 79, 83, 89, 91]"
      ]
     },
     "execution_count": 78,
     "metadata": {},
     "output_type": "execute_result"
    }
   ],
   "source": [
    "sorted([int(i) for i in list(b.keys())],reverse=False)[:10]"
   ]
  },
  {
   "cell_type": "code",
   "execution_count": 103,
   "id": "45d87674-bc68-4449-bd73-7a770a53a7b0",
   "metadata": {},
   "outputs": [
    {
     "data": {
      "text/plain": [
       "[55, 60, 71, 72, 73, 75, 79, 83, 89, 91]"
      ]
     },
     "execution_count": 103,
     "metadata": {},
     "output_type": "execute_result"
    }
   ],
   "source": [
    "c = load_simple_json(\"../pert_large/doc100_cluster_rerank_th001_sent_top5.json\")\n",
    "sorted(set([i[\"qid\"] for i in c[\"train_test\"]]))[:10]"
   ]
  },
  {
   "cell_type": "code",
   "execution_count": 104,
   "id": "b3996863-ed96-4c64-b9c6-19715ff7ba3c",
   "metadata": {},
   "outputs": [
    {
     "data": {
      "text/plain": [
       "[55, 60, 71, 72, 73, 75, 79, 83, 89, 91]"
      ]
     },
     "execution_count": 104,
     "metadata": {},
     "output_type": "execute_result"
    }
   ],
   "source": [
    "c = load_simple_json(\"../pert_large/doc100_cluster_rerank_th001_sent_top5__.json\")\n",
    "sorted(set([i[\"qid\"] for i in c[\"train_test\"]]))[:10]"
   ]
  },
  {
   "cell_type": "code",
   "execution_count": 83,
   "id": "0147fd64-8e1d-440a-a961-0b78595c4a5c",
   "metadata": {},
   "outputs": [
    {
     "data": {
      "text/plain": [
       "[71, 72, 73, 83, 84, 86, 87, 89, 92, 93]"
      ]
     },
     "execution_count": 83,
     "metadata": {},
     "output_type": "execute_result"
    }
   ],
   "source": [
    "sorted(set([i[\"qid\"] for i in c[\"train_test\"]]))[:10]"
   ]
  },
  {
   "cell_type": "code",
   "execution_count": 101,
   "id": "72162536-f427-4592-86d1-cbf52d873ecd",
   "metadata": {},
   "outputs": [
    {
     "data": {
      "text/plain": [
       "[71, 72, 73, 83, 84, 89, 92, 94, 108, 114]"
      ]
     },
     "execution_count": 101,
     "metadata": {},
     "output_type": "execute_result"
    }
   ],
   "source": [
    "c = load_simple_json(\"../pert_large/doc100_cluster_rerank_thr001__.json\")\n",
    "sorted(set([i[\"qid\"] for i in c[\"train_test\"]]))[:10]"
   ]
  },
  {
   "cell_type": "code",
   "execution_count": 96,
   "id": "535e03e0-27a6-4574-9bb2-5430e7f1c50f",
   "metadata": {},
   "outputs": [
    {
     "data": {
      "text/plain": [
       "[71, 72, 73, 83, 84, 86, 87, 89, 92, 93]"
      ]
     },
     "execution_count": 96,
     "metadata": {},
     "output_type": "execute_result"
    }
   ],
   "source": [
    "c = load_simple_json(\"../pert_large/page/doc100_cluster_e20b8_recall/train_test.json\")\n",
    "sorted(set([int(i) for i in list(c.keys())]))[:10]"
   ]
  },
  {
   "cell_type": "code",
   "execution_count": 105,
   "id": "dfdd62ce-b1a1-4431-83d7-e2a20a81f5bc",
   "metadata": {},
   "outputs": [
    {
     "ename": "FileNotFoundError",
     "evalue": "[Errno 2] No such file or directory: '../pert_large/snet_data/train_test_doc100_cluster_rerank_thr001_sent_top5.jsonl'",
     "output_type": "error",
     "traceback": [
      "\u001b[0;31m---------------------------------------------------------------------------\u001b[0m",
      "\u001b[0;31mFileNotFoundError\u001b[0m                         Traceback (most recent call last)",
      "Cell \u001b[0;32mIn [105], line 1\u001b[0m\n\u001b[0;32m----> 1\u001b[0m c \u001b[38;5;241m=\u001b[39m \u001b[43mload_json\u001b[49m\u001b[43m(\u001b[49m\u001b[38;5;124;43m\"\u001b[39;49m\u001b[38;5;124;43m../pert_large/snet_data/train_test_doc100_cluster_rerank_thr001_sent_top5.jsonl\u001b[39;49m\u001b[38;5;124;43m\"\u001b[39;49m\u001b[43m)\u001b[49m\n\u001b[1;32m      2\u001b[0m \u001b[38;5;28msorted\u001b[39m(\u001b[38;5;28mset\u001b[39m([i[\u001b[38;5;124m\"\u001b[39m\u001b[38;5;124mid\u001b[39m\u001b[38;5;124m\"\u001b[39m] \u001b[38;5;28;01mfor\u001b[39;00m i \u001b[38;5;129;01min\u001b[39;00m c]))[:\u001b[38;5;241m10\u001b[39m]\n",
      "File \u001b[0;32m/home/storage/NLP_related/datasets/IR_AICUP/bert-pipeline/evaluate/../utils.py:31\u001b[0m, in \u001b[0;36mload_json\u001b[0;34m(file_path)\u001b[0m\n\u001b[1;32m     13\u001b[0m \u001b[38;5;28;01mdef\u001b[39;00m \u001b[38;5;21mload_json\u001b[39m(file_path: Union[Path, \u001b[38;5;28mstr\u001b[39m]) \u001b[38;5;241m-\u001b[39m\u001b[38;5;241m>\u001b[39m pd\u001b[38;5;241m.\u001b[39mDataFrame:\n\u001b[1;32m     14\u001b[0m     \u001b[38;5;124;03m\"\"\"jsonl_to_df read jsonl file and return a pandas DataFrame.\u001b[39;00m\n\u001b[1;32m     15\u001b[0m \n\u001b[1;32m     16\u001b[0m \u001b[38;5;124;03m    Args:\u001b[39;00m\n\u001b[0;32m   (...)\u001b[0m\n\u001b[1;32m     29\u001b[0m \u001b[38;5;124;03m        [946 rows x 10 columns]\u001b[39;00m\n\u001b[1;32m     30\u001b[0m \u001b[38;5;124;03m    \"\"\"\u001b[39;00m\n\u001b[0;32m---> 31\u001b[0m     \u001b[38;5;28;01mwith\u001b[39;00m \u001b[38;5;28;43mopen\u001b[39;49m\u001b[43m(\u001b[49m\u001b[43mfile_path\u001b[49m\u001b[43m,\u001b[49m\u001b[43m \u001b[49m\u001b[38;5;124;43m\"\u001b[39;49m\u001b[38;5;124;43mr\u001b[39;49m\u001b[38;5;124;43m\"\u001b[39;49m\u001b[43m,\u001b[49m\u001b[43m \u001b[49m\u001b[43mencoding\u001b[49m\u001b[38;5;241;43m=\u001b[39;49m\u001b[38;5;124;43m\"\u001b[39;49m\u001b[38;5;124;43mutf8\u001b[39;49m\u001b[38;5;124;43m\"\u001b[39;49m\u001b[43m)\u001b[49m \u001b[38;5;28;01mas\u001b[39;00m json_file:\n\u001b[1;32m     32\u001b[0m         json_list \u001b[38;5;241m=\u001b[39m \u001b[38;5;28mlist\u001b[39m(json_file)\n\u001b[1;32m     34\u001b[0m     \u001b[38;5;28;01mreturn\u001b[39;00m [json\u001b[38;5;241m.\u001b[39mloads(json_str) \u001b[38;5;28;01mfor\u001b[39;00m json_str \u001b[38;5;129;01min\u001b[39;00m json_list]\n",
      "\u001b[0;31mFileNotFoundError\u001b[0m: [Errno 2] No such file or directory: '../pert_large/snet_data/train_test_doc100_cluster_rerank_thr001_sent_top5.jsonl'"
     ]
    }
   ],
   "source": [
    "c = load_json(\"../pert_large/sent_data/train_test_doc100_cluster_rerank_thr001_sent_top5.jsonl\")\n",
    "sorted(set([i[\"id\"] for i in c]))[:10]"
   ]
  },
  {
   "cell_type": "code",
   "execution_count": 51,
   "id": "42d9eb06-362d-478b-8cd2-59bd154db444",
   "metadata": {
    "tags": []
   },
   "outputs": [
    {
     "data": {
      "text/plain": [
       "1223"
      ]
     },
     "execution_count": 51,
     "metadata": {},
     "output_type": "execute_result"
    }
   ],
   "source": [
    "page_set = set([i[\"id\"] for i in page_data])\n",
    "len(page_set)"
   ]
  },
  {
   "cell_type": "code",
   "execution_count": 43,
   "id": "8ac4ac21-2b88-4107-942d-d2c508665d09",
   "metadata": {},
   "outputs": [],
   "source": [
    "buf = page_set-sent_set"
   ]
  },
  {
   "cell_type": "code",
   "execution_count": 47,
   "id": "32cf73c8-9e03-4fc8-8339-c6c0c1305bb2",
   "metadata": {},
   "outputs": [
    {
     "data": {
      "text/plain": [
       "False"
      ]
     },
     "execution_count": 47,
     "metadata": {},
     "output_type": "execute_result"
    }
   ],
   "source": [
    "60 in sent_set"
   ]
  },
  {
   "cell_type": "code",
   "execution_count": 52,
   "id": "83aa9805-5982-406b-ad32-57a0b1038c31",
   "metadata": {},
   "outputs": [
    {
     "data": {
      "text/plain": [
       "908"
      ]
     },
     "execution_count": 52,
     "metadata": {},
     "output_type": "execute_result"
    }
   ],
   "source": [
    "len(buf)"
   ]
  },
  {
   "cell_type": "code",
   "execution_count": 50,
   "id": "016e3e56-b8b8-41d4-9248-911fcee883ab",
   "metadata": {},
   "outputs": [
    {
     "data": {
      "text/plain": [
       "{'sentence1': '天衛三軌道在天王星內部的磁層，以《 仲夏夜之夢 》作者緹坦妮雅命名。',\n",
       " 'qid': 2663,\n",
       " 'sentence2': '天衛三:1787年由威廉 · 赫歇爾發現 ， 並以威廉 · 莎士比亞的 《 仲夏夜之夢 》 中的妖精王后緹坦妮雅命名 。[SEP]天衛三:它的軌道位於天王星的內部磁層 。[SEP]天衛三:天衛三 （ 緹坦妮雅 、 Titania 、 -LSB- link - entaɪˈteɪniə -RSB- ） 是天王星最大的衛星 ， 也是太陽系內第八大的衛星 。[SEP]天衛三:直徑爲 1,578 公里 （ 981英里 ） ， 。[SEP]天衛三:表面覆滿了火山灰 。',\n",
       " 'label': 1}"
      ]
     },
     "execution_count": 50,
     "metadata": {},
     "output_type": "execute_result"
    }
   ],
   "source": [
    "c1[\"val_test\"][0]"
   ]
  },
  {
   "cell_type": "code",
   "execution_count": 57,
   "id": "57c8ec74-02ba-40a4-b5d9-6779545eaf98",
   "metadata": {},
   "outputs": [],
   "source": [
    "c1 = load_simple_json(\"../pert_large/doc100_cluster_rerank_th001_sent_top5.json\")"
   ]
  },
  {
   "cell_type": "code",
   "execution_count": 31,
   "id": "7ca02f1f-c87d-4b08-894e-923063491916",
   "metadata": {},
   "outputs": [
    {
     "data": {
      "text/plain": [
       "1055"
      ]
     },
     "execution_count": 31,
     "metadata": {},
     "output_type": "execute_result"
    }
   ],
   "source": [
    "len(DATA)"
   ]
  },
  {
   "cell_type": "code",
   "execution_count": 71,
   "id": "9ab2ca68-92d9-406f-8ebf-2073cce67088",
   "metadata": {},
   "outputs": [],
   "source": [
    "final_val1 = pair_with_preds_page(final_val,page_data)"
   ]
  },
  {
   "cell_type": "code",
   "execution_count": 73,
   "id": "2c31d4a5-d496-49d3-a20e-329b37cda9b9",
   "metadata": {
    "collapsed": true,
    "jupyter": {
     "outputs_hidden": true
    },
    "tags": []
   },
   "outputs": [
    {
     "data": {
      "text/plain": [
       "[{'id': 2663,\n",
       "  'label': 'refutes',\n",
       "  'claim': '天衛三軌道在天王星內部的磁層，以《 仲夏夜之夢 》作者緹坦妮雅命名。',\n",
       "  'evidence': [[[4209, 4331, '天衛三', 2]]],\n",
       "  'predicted_pages': ['軌道',\n",
       "   '磁層',\n",
       "   '仲夏夜_(羅文專輯)',\n",
       "   '天衛三',\n",
       "   '作者',\n",
       "   '緹坦妮雅',\n",
       "   '天王星',\n",
       "   '仲夏夜之夢_(消歧義)',\n",
       "   '夢'],\n",
       "  'predicted_evidence': [['天衛三', 2],\n",
       "   ['天衛三', 3],\n",
       "   ['天衛三', 0],\n",
       "   ['天衛三', 1],\n",
       "   ['天衛三', 8]],\n",
       "  'evidence_sentence': [['1787年由威廉 · 赫歇爾發現 ， 並以威廉 · 莎士比亞的 《 仲夏夜之夢 》 中的妖精王后緹坦妮雅命名 。']],\n",
       "  'predicted_label': 'supports',\n",
       "  'predicted_sentnece': ['1787年由威廉 · 赫歇爾發現 ， 並以威廉 · 莎士比亞的 《 仲夏夜之夢 》 中的妖精王后緹坦妮雅命名 。',\n",
       "   '它的軌道位於天王星的內部磁層 。',\n",
       "   '天衛三 （ 緹坦妮雅 、 Titania 、 -LSB- link - entaɪˈteɪniə -RSB- ） 是天王星最大的衛星 ， 也是太陽系內第八大的衛星 。',\n",
       "   '直徑爲 1,578 公里 （ 981英里 ） ， 。',\n",
       "   '表面覆滿了火山灰 。'],\n",
       "  'predicted_pages_1': []},\n",
       " {'id': 7551,\n",
       "  'label': 'supports',\n",
       "  'claim': '毒魚豆的萃取物被西印度群島的原住民發掘可以導致魚麻醉安靜 ， 讓他們得以趁機徒手抓魚 。',\n",
       "  'evidence': [[[6825, 6546, '毒魚豆', 4]]],\n",
       "  'predicted_pages': ['魚', '西', '印度', '毒魚豆', '萃取', '原住民'],\n",
       "  'predicted_evidence': [['毒魚豆', 4],\n",
       "   ['毒魚豆', 6],\n",
       "   ['毒魚豆', 0],\n",
       "   ['毒魚豆', 10],\n",
       "   ['毒魚豆', 5]],\n",
       "  'evidence_sentence': [['西印度群島的原住民發現這種植物的提取物可以令魚麻醉安靜 ， 讓他們可以徒手抓魚 。']],\n",
       "  'predicted_label': 'refutes',\n",
       "  'predicted_sentnece': ['西印度群島的原住民發現這種植物的提取物可以令魚麻醉安靜 ， 讓他們可以徒手抓魚 。',\n",
       "   '毒魚豆具有藥用價值 ， 可以做鎮痛藥及鎮靜劑 。',\n",
       "   '毒魚豆 （ 學名 ： ） ， 又名牙買加山茱萸 、 佛羅里達毒魚木 ， 是豆科毒魚豆屬的一種木本植物 。',\n",
       "   '種小名piscipula是 「 小魚 」 的意思 。',\n",
       "   '俗名毒魚木 、 醉魚木也是得名自這種功用 。'],\n",
       "  'predicted_pages_1': ['毒魚豆']},\n",
       " {'id': 4688,\n",
       "  'label': 'supports',\n",
       "  'claim': '軟件開發是一項包括需求獲取 、 開發規劃 、 需求分析和設計 、 編程實現 、 軟件測試 、 版本控制的系統工程，其中包含任何最終獲得軟件產品的活動 。',\n",
       "  'evidence': [[[4631, 4702, '軟件開發', 1], [4631, 4702, '軟件開發', 2]]],\n",
       "  'predicted_pages': ['軟件開發', '軟件測試', '活動', '版本控制', '系統工程', '軟件'],\n",
       "  'predicted_evidence': [['軟件開發', 1],\n",
       "   ['軟件開發', 2],\n",
       "   ['軟件開發', 9],\n",
       "   ['軟件開發', 7],\n",
       "   ['軟件開發', 0]],\n",
       "  'evidence_sentence': [['軟件開發是一項包括需求獲取 、 開發規劃 、 需求分析和設計 、 編程實現 、 軟件測試 、 版本控制的系統工程 。',\n",
       "    '換句話說 ， 軟件開發就是一系列最終構建出軟件產品的活動 。']],\n",
       "  'predicted_label': 'refutes',\n",
       "  'predicted_sentnece': ['軟件開發是一項包括需求獲取 、 開發規劃 、 需求分析和設計 、 編程實現 、 軟件測試 、 版本控制的系統工程 。',\n",
       "   '換句話說 ， 軟件開發就是一系列最終構建出軟件產品的活動 。',\n",
       "   '通常採用軟件開發工具可以進行開發 。',\n",
       "   '“ 軟件開發 ” 一詞還可能是指計算機編程 ， 也就是編寫和維護源代碼的過程 。',\n",
       "   '軟件開發 （ Software development ） 是根據用戶要求建造出軟件系統或者系統中軟件部分的一個產品開發的過程 。'],\n",
       "  'predicted_pages_1': []},\n",
       " {'id': 8496,\n",
       "  'label': 'supports',\n",
       "  'claim': '國立臺灣大學應用力學研究所從1984年開始招收碩 、 博士班研究生 ， 首任所長爲理論及應用力學專家 ， 美國國家工程院院士 、 中央研究院院士鮑亦興教授 。',\n",
       "  'evidence': [[[7667, 7249, '國立臺灣大學應用力學研究所', 3]]],\n",
       "  'predicted_pages': ['班',\n",
       "   '國立臺灣大學',\n",
       "   '研究生',\n",
       "   '理論',\n",
       "   '研究所',\n",
       "   '1984年',\n",
       "   '院士',\n",
       "   '中央研究院院士',\n",
       "   '國立臺灣大學應用力學研究所',\n",
       "   '美國國家工程院',\n",
       "   '力學',\n",
       "   '鮑亦興',\n",
       "   '中央研究院'],\n",
       "  'predicted_evidence': [['國立臺灣大學應用力學研究所', 3],\n",
       "   ['國立臺灣大學應用力學研究所', 1],\n",
       "   ['國立臺灣大學應用力學研究所', 0],\n",
       "   ['國立臺灣大學應用力學研究所', 2]],\n",
       "  'evidence_sentence': [['於1984年招收第一屆碩 、 博士班研究生 ， 首任所長爲理論及應用力學專家 ， 美國國家工程院院士 、 中央研究院院士鮑亦興教授 。']],\n",
       "  'predicted_label': 'supports',\n",
       "  'predicted_sentnece': ['於1984年招收第一屆碩 、 博士班研究生 ， 首任所長爲理論及應用力學專家 ， 美國國家工程院院士 、 中央研究院院士鮑亦興教授 。',\n",
       "   '於1983年 ， 由虞兆中校長 、 中山科學研究院黃孝宗代院長合議決定委請美國康乃爾大學鮑亦興教授負責規劃籌設 。',\n",
       "   '國立臺灣大學應用力學研究所  ， 簡稱臺灣大學應力所 、 臺大應力所 。',\n",
       "   '展開設所籌備工作 ， 徵聘教師 ， 葉超雄教授主持招生等事宜 。'],\n",
       "  'predicted_pages_1': ['國立臺灣大學', '國立臺灣大學應用力學研究所', '鮑亦興']},\n",
       " {'id': 3397,\n",
       "  'label': 'supports',\n",
       "  'claim': '收入豐厚的湯姆克魯斯獲得了許多獎項。',\n",
       "  'evidence': [[[2275, 2489, '湯姆·克魯斯', 1]], [[2275, 2490, '湯姆·克魯斯', 2]]],\n",
       "  'predicted_pages': ['收入', '湯姆·克魯斯', '湯姆·班克斯', '湯姆·希林', '湯姆·漢克斯'],\n",
       "  'predicted_evidence': [['湯姆·克魯斯', 2],\n",
       "   ['湯姆·克魯斯', 1],\n",
       "   ['湯姆·克魯斯', 3],\n",
       "   ['湯姆·克魯斯', 9],\n",
       "   ['湯姆·克魯斯', 0]],\n",
       "  'evidence_sentence': [['作爲世界上收入最多的演員之一 ， 他獲得了多項榮譽 ， 包含三次金球獎和榮譽金棕櫚獎 ， 以及三次奧斯卡金像獎和英國電影學院獎提名 。'],\n",
       "   ['他的電影在北美擁有超過45億票房 ， 在全球擁有超過110億美元票房 ， 使他成爲有史以來票房最高的巨星 。']],\n",
       "  'predicted_label': 'supports',\n",
       "  'predicted_sentnece': ['他的電影在北美擁有超過45億票房 ， 在全球擁有超過110億美元票房 ， 使他成爲有史以來票房最高的巨星 。',\n",
       "   '作爲世界上收入最多的演員之一 ， 他獲得了多項榮譽 ， 包含三次金球獎和榮譽金棕櫚獎 ， 以及三次奧斯卡金像獎和英國電影學院獎提名 。',\n",
       "   '而他主演的電影共有19次位列全球年度票房前十 ， 爲歷史第一 。',\n",
       "   '作爲1990年代好萊塢的領軍人物 ， 他出演了多部票房大賣的電影 ， 包括劇情片 《 軍官與魔鬼 》 （ 1992 ） 、 驚悚片 《 黑色豪門企業 》 （ 1993 ） 、 恐怖片 《 夜訪吸血鬼 》 （ 1994 ） 和愛情片 《 征服情海 》 （ 1996 ） 。',\n",
       "   '湯姆 · 克魯斯 （ Tom Cruise ) 全名湯瑪斯 · 克魯斯 · 馬波瑟四世 （ Thomas Cruise Mapother IV ） ， 是知名美國籍男演員及電影製片人 。'],\n",
       "  'predicted_pages_1': []},\n",
       " {'id': 7804,\n",
       "  'label': 'supports',\n",
       "  'claim': '「五虎上將」的人物之一是三國時蜀漢的著名將領黃忠。',\n",
       "  'evidence': [[[7035, 6707, '黃忠', 0], [7035, 6707, '黃忠', 2]]],\n",
       "  'predicted_pages': ['虎', '五虎', '上將', '人物', '一·二八事變', '三國', '黃忠', '蜀漢'],\n",
       "  'predicted_evidence': [['黃忠', 2], ['黃忠', 0], ['黃忠', 1]],\n",
       "  'evidence_sentence': [['黃忠  ， 字漢升 ， 一說字漢叔 ， 荊州南陽郡 （ 今河南省南陽市 ） 人 ， 三國時蜀漢的著名將領 。',\n",
       "    '陳壽在撰寫 《 三國志 》 的時候 ， 將黃忠與關羽 、 張飛 、 馬超 、 趙雲合爲一傳 （ 《 三國志 · 蜀書 · 關張馬黃趙傳 》 ） ， 羅貫中的長篇小說 《 三國演義 》 中又將該五人並稱 “ 五虎上將 ” ， 廣爲世人所知 。']],\n",
       "  'predicted_label': 'supports',\n",
       "  'predicted_sentnece': ['陳壽在撰寫 《 三國志 》 的時候 ， 將黃忠與關羽 、 張飛 、 馬超 、 趙雲合爲一傳 （ 《 三國志 · 蜀書 · 關張馬黃趙傳 》 ） ， 羅貫中的長篇小說 《 三國演義 》 中又將該五人並稱 “ 五虎上將 ” ， 廣爲世人所知 。',\n",
       "   '黃忠  ， 字漢升 ， 一說字漢叔 ， 荊州南陽郡 （ 今河南省南陽市 ） 人 ， 三國時蜀漢的著名將領 。',\n",
       "   '本爲漢末群雄劉表部下中郎將 ， 長沙太守韓玄部將 ， 後成爲劉備部將 ， 歷任討虜將軍 、 徵西將軍 ， 官至後將軍 ， 去世後諡號爲剛侯 。'],\n",
       "  'predicted_pages_1': []},\n",
       " {'id': 8414,\n",
       "  'label': 'NOT ENOUGH INFO',\n",
       "  'claim': '隸屬中華民國法務部矯正署的矯正機關是法務部矯正署臺北少年觀護所，前身是臺灣高等法院檢察署臺北少年觀護所，位於新北市土城區。',\n",
       "  'evidence': [[7532, None, None, None]],\n",
       "  'predicted_pages': ['土城區',\n",
       "   '中華民國',\n",
       "   '新北市',\n",
       "   '法務部矯正署',\n",
       "   '中華民國法務部',\n",
       "   '臺灣',\n",
       "   '法務部矯正署臺北少年觀護所',\n",
       "   '法院'],\n",
       "  'predicted_evidence': [['法務部矯正署臺北少年觀護所', 0], ['法務部矯正署臺北少年觀護所', 1]],\n",
       "  'evidence_sentence': [],\n",
       "  'predicted_label': 'supports',\n",
       "  'predicted_sentnece': ['法務部矯正署臺北少年觀護所 ， 簡稱臺北少年觀護所 ， 是中華民國法務部的矯正機關 ， 位於新北市土城區 。',\n",
       "   '設置之目的在於協助調查依法收容少年之品行 、 經歷 、 身心狀況 、 教育程度 、 家庭情形 、 社會環境及其他必要之事項 ， 供少年法庭審前調查之參考 ， 並矯正少年之身心 ， 促其改悔向上 ， 適於社會正常生活 。'],\n",
       "  'predicted_pages_1': []},\n",
       " {'id': 5063,\n",
       "  'label': 'refutes',\n",
       "  'claim': '木衛三十九被以希臘神話中的美惠五女神之一的名稱命名。',\n",
       "  'evidence': [[[4222, 4342, '木衛三十九', 7]]],\n",
       "  'predicted_pages': ['木衛三十九', '希臘', '神話', '名稱', '一·二八事變', '希臘神話', '女神'],\n",
       "  'predicted_evidence': [['木衛三十九', 7],\n",
       "   ['木衛三十九', 0],\n",
       "   ['木衛三十九', 4],\n",
       "   ['木衛三十九', 1],\n",
       "   ['木衛三十九', 10]],\n",
       "  'evidence_sentence': [['它在2005年3月被命名爲Hegemone （ 赫革摩涅 ， 是卡里忒斯 （ 美惠三女神 ） 之一 ， 宙斯 （ Jupiter ） 的女兒 。']],\n",
       "  'predicted_label': 'NOT ENOUGH INFO',\n",
       "  'predicted_sentnece': ['它在2005年3月被命名爲Hegemone （ 赫革摩涅 ， 是卡里忒斯 （ 美惠三女神 ） 之一 ， 宙斯 （ Jupiter ） 的女兒 。',\n",
       "   '木衛三十九 ( Hegemone ， -LSB- hɪˈdʒɛməni -RSB- ， ； 希臘語 ： Ηγεμόνη ） ， 又名 ， 是木星的一個衛星 。',\n",
       "   '其直徑約爲3公里 ， 軌道平均半徑爲 23,703 Mm ， 軌道週期爲 745.500 地球日 ， 與黃道間的軌道傾角爲153 ° （ 與木星赤道151 ° ） ， 運轉方向爲逆行 ， 軌道離心率爲 0.4077 。',\n",
       "   '由斯科特 · 謝潑德所領導的夏威夷大學研究小組於2003年發現 。',\n",
       "   '它是帕西法爾衛星群中的成員 ， 而帕西法爾衛星群是一群環繞木星逆行的不規則衛星 ， 它們的軌道半長軸在 22.8與 24.1 Gm之間 ， 且軌道傾角都在 144.5 ° 和 158.3 ° 之間 。'],\n",
       "  'predicted_pages_1': []},\n",
       " {'id': 7711,\n",
       "  'label': 'supports',\n",
       "  'claim': '米夏埃爾 · 科爾曼 （ Michael Kohlmann ) 是一位歐洲職業網球運動員 ， 他也是一位雙打專家 ， 目前的他擁有五座ATP雙打冠軍 。 於2007年3月5日 ， 他成爲雙打最高世界排名27位 。',\n",
       "  'evidence': [[[6953, 6648, '米夏埃爾·科爾曼', 0], [6953, 6648, '米夏埃爾·科爾曼', 1]]],\n",
       "  'predicted_pages': ['網球', '3月5日', '雙打', 'ATP', '歐洲', '米夏埃爾·科爾曼', '米夏埃爾·施蒂希'],\n",
       "  'predicted_evidence': [['米夏埃爾·科爾曼', 0], ['米夏埃爾·科爾曼', 1]],\n",
       "  'evidence_sentence': [['米夏埃爾 · 科爾曼 （ Michael Kohlmann ) 是一位德國職業網球運動員 ， 他是一位雙打專家 ， 他目前擁有五座ATP雙打冠軍 。',\n",
       "    '2007年3月5日 ， 他到達雙打最高世界排名27位 。']],\n",
       "  'predicted_label': 'supports',\n",
       "  'predicted_sentnece': ['米夏埃爾 · 科爾曼 （ Michael Kohlmann ) 是一位德國職業網球運動員 ， 他是一位雙打專家 ， 他目前擁有五座ATP雙打冠軍 。',\n",
       "   '2007年3月5日 ， 他到達雙打最高世界排名27位 。'],\n",
       "  'predicted_pages_1': ['米夏埃爾·科爾曼', '米夏埃爾·施蒂希']},\n",
       " {'id': 7390,\n",
       "  'label': 'supports',\n",
       "  'claim': '中國人徐翔曾因爲涉嫌操縱證券市場及內幕交易犯罪，被公安機關依法批准逮捕。',\n",
       "  'evidence': [[[6377, 6178, '徐翔', 4],\n",
       "    [6377, 6178, '2015年中國股災', 0],\n",
       "    [6377, 6178, '徐翔_(投資家)', 0],\n",
       "    [6377, 6178, '徐翔_(投資家)', 10],\n",
       "    [6377, 6178, '徐翔_(投資家)', 13]]],\n",
       "  'predicted_pages': ['徐翔_(投資家)',\n",
       "   '人',\n",
       "   '公安機關',\n",
       "   '公安_(消歧義)',\n",
       "   '證券市場',\n",
       "   '中國',\n",
       "   '中國人'],\n",
       "  'predicted_evidence': [['徐翔_(投資家)', 0],\n",
       "   ['徐翔_(投資家)', 13],\n",
       "   ['徐翔_(投資家)', 10],\n",
       "   ['徐翔_(投資家)', 3],\n",
       "   ['徐翔_(投資家)', 16]],\n",
       "  'evidence_sentence': [['徐翔 ， 中國私募投資人 ， 因涉及操控2015年中國股災被逮捕',\n",
       "    '2015年中國股災 ， 是2015年6 - 7月滬深中國上海 、 深圳兩市股市交易的股市指數在短期內出現暴跌的事件 。',\n",
       "    '徐翔  ， 又名徐強 ， 男 ， 浙江寧波人 ， 中國投資人 ， 炒股風格以 “ 快準狠 ” 而出名 ， 被稱爲 “ 私募一哥 ” 。',\n",
       "    '2015年11月1日 ， 徐翔因涉嫌非法手段獲取股市內幕信息 ， 從事內幕交易 、 操縱股票交易價格等違法犯罪 ， 被公安機關依法採取刑事強制措施 。',\n",
       "    '2016年4月29日 ， 因涉嫌操縱證券市場及內幕交易犯罪 ， 被公安機關依法批准逮捕 。']],\n",
       "  'predicted_label': 'supports',\n",
       "  'predicted_sentnece': ['徐翔  ， 又名徐強 ， 男 ， 浙江寧波人 ， 中國投資人 ， 炒股風格以 “ 快準狠 ” 而出名 ， 被稱爲 “ 私募一哥 ” 。',\n",
       "   '2016年4月29日 ， 因涉嫌操縱證券市場及內幕交易犯罪 ， 被公安機關依法批准逮捕 。',\n",
       "   '2015年11月1日 ， 徐翔因涉嫌非法手段獲取股市內幕信息 ， 從事內幕交易 、 操縱股票交易價格等違法犯罪 ， 被公安機關依法採取刑事強制措施 。',\n",
       "   '徐翔早年是寧波的一位散戶 ， 因擅長股市投資 ， 在股市中獲取鉅額收益 。',\n",
       "   '2017年1月23日 ， 徐翔以操縱證券市場一審被判五年半 ， 罰金110億元 。'],\n",
       "  'predicted_pages_1': []}]"
      ]
     },
     "execution_count": 73,
     "metadata": {},
     "output_type": "execute_result"
    }
   ],
   "source": [
    "final_val1[:10]"
   ]
  },
  {
   "cell_type": "code",
   "execution_count": 74,
   "id": "317eef5f-e7bb-4a45-b05b-6bfa7b7cb844",
   "metadata": {},
   "outputs": [],
   "source": [
    "with open(\"./doc100_cluster_top5_val_with_evid.jsonl\",\"w\",encoding=\"utf8\",) as f:\n",
    "        for i, d in enumerate(final_val1):\n",
    "            f.write(json.dumps(d, ensure_ascii=False) + \"\\n\")"
   ]
  },
  {
   "cell_type": "code",
   "execution_count": null,
   "id": "7b737a9e-9427-4ced-b8de-1f0512a1c5db",
   "metadata": {},
   "outputs": [],
   "source": [
    "val_test_doc100_thr001"
   ]
  }
 ],
 "metadata": {
  "kernelspec": {
   "display_name": "baseline",
   "language": "python",
   "name": "aicup_baseline"
  },
  "language_info": {
   "codemirror_mode": {
    "name": "ipython",
    "version": 3
   },
   "file_extension": ".py",
   "mimetype": "text/x-python",
   "name": "python",
   "nbconvert_exporter": "python",
   "pygments_lexer": "ipython3",
   "version": "3.8.10"
  }
 },
 "nbformat": 4,
 "nbformat_minor": 5
}
