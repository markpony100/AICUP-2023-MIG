{
 "cells": [
  {
   "cell_type": "code",
   "execution_count": 75,
   "id": "fa78049b-06a4-4197-b3ec-31ff702b4124",
   "metadata": {},
   "outputs": [],
   "source": [
    "#from \n",
    "import json\n",
    "from dataclasses import dataclass\n",
    "import pandas as pd\n",
    "import numpy as np\n",
    "import sys\n",
    "sys.path.append('../')\n",
    "from utils import load_simple_json,load_json\n",
    "from sklearn.metrics import recall_score,precision_score,confusion_matrix,accuracy_score"
   ]
  },
  {
   "cell_type": "markdown",
   "id": "b9697997-2fad-4869-af7b-82986e227997",
   "metadata": {},
   "source": [
    "TEST data"
   ]
  },
  {
   "cell_type": "code",
   "execution_count": 83,
   "id": "92210d07-36e0-4676-baed-ee969167bf44",
   "metadata": {},
   "outputs": [
    {
     "data": {
      "text/plain": [
       "931"
      ]
     },
     "execution_count": 83,
     "metadata": {},
     "output_type": "execute_result"
    }
   ],
   "source": [
    "TEST_DATA = load_json(\"../pert_large/enough/0522_03_fix/test.jsonl\")\n",
    "len(TEST_DATA)"
   ]
  },
  {
   "cell_type": "code",
   "execution_count": 84,
   "id": "94cf48de-b868-4055-8f83-b6696c0cbf9e",
   "metadata": {},
   "outputs": [],
   "source": [
    "preds = load_simple_json(\"../pert_large/claim/0522_03_w_noise/test_fix.json\")#test_ens4_p74"
   ]
  },
  {
   "cell_type": "code",
   "execution_count": 85,
   "id": "4b74de3e-d604-4553-9791-d6871856e177",
   "metadata": {},
   "outputs": [],
   "source": [
    "def join_pred_data(pred_dic,data):\n",
    "    re_lst=[]\n",
    "    data_map = {i[\"id\"]:idx for idx,i in enumerate(data)}\n",
    "    for key in pred_dic:\n",
    "        buf=None\n",
    "        if int(key) in data_map.keys():\n",
    "            buf = data[data_map[int(key)]]\n",
    "            buf[\"predict_label\"]=pred_dic[key]['predict_label']\n",
    "            re_lst.append(buf)\n",
    "    return re_lst"
   ]
  },
  {
   "cell_type": "code",
   "execution_count": 86,
   "id": "09b2e7d9-5127-4870-90d1-6989a143e3ed",
   "metadata": {},
   "outputs": [
    {
     "data": {
      "text/plain": [
       "931"
      ]
     },
     "execution_count": 86,
     "metadata": {},
     "output_type": "execute_result"
    }
   ],
   "source": [
    "pair_data = join_pred_data(preds,TEST_DATA)\n",
    "len(pair_data)"
   ]
  },
  {
   "cell_type": "code",
   "execution_count": 201,
   "id": "1d082707-6f30-4ce6-864d-3cbf3de3e019",
   "metadata": {},
   "outputs": [],
   "source": [
    "def score(in_data):\n",
    "    data = in_data.copy()\n",
    "    data =[i for i in data if i[\"label\"]!=\"NOT ENOUGH INFO\"]\n",
    "    label_map = {'supports':0,'refutes':1}\n",
    "    gt_label,pred_label=[],[]\n",
    "    for i in data:\n",
    "        if i[\"label\"]== \"NOT ENOUGH INFO\":\n",
    "            continue\n",
    "        gt_label.append(label_map[i[\"label\"]])\n",
    "        pred_label.append(i[\"predict_label\"])\n",
    "    recall,precision = recall_score(gt_label,pred_label),precision_score(gt_label,pred_label)\n",
    "    print(\"accuracy: \",accuracy_score(gt_label,pred_label))\n",
    "    print(\"precision: {}, recall: {}, f1: {}\".format(recall,precision,(2*precision*recall)/(precision+recall)))\n",
    "    print(confusion_matrix(gt_label,pred_label))"
   ]
  },
  {
   "cell_type": "code",
   "execution_count": 88,
   "id": "a6c9a335-19e3-486a-ae4f-f2e26631acc7",
   "metadata": {},
   "outputs": [
    {
     "name": "stdout",
     "output_type": "stream",
     "text": [
      "accuracy:  0.8183060109289617\n",
      "precision: 0.7269503546099291, recall: 0.7854406130268199, f1: 0.7550644567219152\n",
      "[[394  56]\n",
      " [ 77 205]]\n"
     ]
    }
   ],
   "source": [
    "score(pair_data)"
   ]
  },
  {
   "cell_type": "code",
   "execution_count": 49,
   "id": "12292378-63db-4254-b31c-b24f7c79baa1",
   "metadata": {},
   "outputs": [
    {
     "data": {
      "text/plain": [
       "{'id': 5208,\n",
       " 'claim': '光學顯微鏡是以電磁學原理來將不可見或難見的微小物放大至肉眼可見的儀器。',\n",
       " 'predicted_pages_1': ['顯微鏡', '光學顯微鏡'],\n",
       " 'predicted_evidence': [['顯微鏡', 0],\n",
       "  ['光學顯微鏡', 0],\n",
       "  ['顯微鏡', 6],\n",
       "  ['顯微鏡', 1],\n",
       "  ['光學顯微鏡', 3]],\n",
       " 'enough': 1,\n",
       " 'predict_label': 1}"
      ]
     },
     "execution_count": 49,
     "metadata": {},
     "output_type": "execute_result"
    }
   ],
   "source": [
    "pair_data[0]"
   ]
  },
  {
   "cell_type": "code",
   "execution_count": 40,
   "id": "ac929a4b-4547-40f2-a470-55f87f41b667",
   "metadata": {},
   "outputs": [],
   "source": [
    "with open(\"../pert_large/enough/0522_03/test.jsonl\",\"w\",encoding=\"utf8\",) as f:\n",
    "    for i, d in enumerate(enough_data):\n",
    "        f.write(json.dumps(d, ensure_ascii=False) + \"\\n\")"
   ]
  },
  {
   "cell_type": "markdown",
   "id": "d654704c-ee4a-4825-8528-9224809df6b4",
   "metadata": {},
   "source": [
    "## kfold "
   ]
  },
  {
   "cell_type": "code",
   "execution_count": 264,
   "id": "9428edc8-d5aa-4bec-ac3f-2c179240913e",
   "metadata": {},
   "outputs": [],
   "source": [
    "def join_kf_dic(dics,thresh=0.5):#majority voting\n",
    "    re_dic={}\n",
    "    for dic in dics:\n",
    "        for key in dic:\n",
    "            if key in re_dic:\n",
    "                re_dic[key]+=[dic[key][\"prob\"]]\n",
    "            else:\n",
    "                re_dic[key]=[dic[key][\"prob\"]]\n",
    "    for key in re_dic:\n",
    "        if thresh:\n",
    "            re_dic[key]=sum(np.array(re_dic[key]))/len(dics)\n",
    "        else:\n",
    "            re_dic[key] = int(np.median(re_dic[key]))\n",
    "    return re_dic"
   ]
  },
  {
   "cell_type": "code",
   "execution_count": 311,
   "id": "bee46b55-203f-47e4-8dab-e84d7e0d25c6",
   "metadata": {},
   "outputs": [
    {
     "data": {
      "text/plain": [
       "8597"
      ]
     },
     "execution_count": 311,
     "metadata": {},
     "output_type": "execute_result"
    }
   ],
   "source": [
    "TEST_DATA = load_json(\"../pert_large/enough/0522_nclu_neg_no_pid_folds/all_test_clu_page_sent_nclu_e01_ens5_prob.jsonl\")\n",
    "#TEST_DATA = load_json(\"../pert_large/enough/0522_nclu_neg_no_pid_folds/test_ens5.jsonl\")\n",
    "#preds = load_simple_json(\"../pert_large/claim/0522_03_w_noise_folds/test/test_f1.json\")\n",
    "len(TEST_DATA)"
   ]
  },
  {
   "cell_type": "code",
   "execution_count": 287,
   "id": "dc873d42-a9f4-4b89-aed8-762d7e6a77a6",
   "metadata": {},
   "outputs": [],
   "source": [
    "def pred_thresh(dic,thresh):\n",
    "    for k in dic:\n",
    "        if dic[k]['predict_label']>thresh:\n",
    "            dic[k]['predict_label']=1\n",
    "        else:\n",
    "            dic[k]['predict_label']=0\n",
    "    return dic"
   ]
  },
  {
   "cell_type": "code",
   "execution_count": 313,
   "id": "04c82825-613f-45bb-a0aa-b6c6490557b7",
   "metadata": {},
   "outputs": [],
   "source": [
    "processed_preds=[]\n",
    "processed_dicts=[]\n",
    "#＃preds = [\"test_f0\",\"test_f1\",\"test_f2\",\"test_f3\",\"test_f4\"]\n",
    "preds = [\"all_test_f0\",\"all_test_f1\",\"all_test_f2\",\"all_test_f3\",\"all_test_f4\"]\n",
    "pred_dics =[]\n",
    "thr_param =[]\n",
    "for pred_path in preds:\n",
    "    pred_dics.append(load_simple_json(\"../pert_large/claim/0522_clu_w_noise_npid_folds/all_test/\"+pred_path+\".json\"))\n",
    "pred_dic = join_kf_dic(pred_dics)\n",
    "pred_dic = {key:{\"predict_label\":pred_dic[key]} for key in pred_dic}\n",
    "pred_dic = pred_thresh(pred_dic,0.29)\n",
    "pair_data = join_pred_data(pred_dic,TEST_DATA)\n",
    "#score(pair_data)"
   ]
  },
  {
   "cell_type": "code",
   "execution_count": 314,
   "id": "e8c0bdd3-cd62-4160-8c8b-b44208f25553",
   "metadata": {},
   "outputs": [
    {
     "data": {
      "text/plain": [
       "8597"
      ]
     },
     "execution_count": 314,
     "metadata": {},
     "output_type": "execute_result"
    }
   ],
   "source": [
    "len(pair_data)"
   ]
  },
  {
   "cell_type": "code",
   "execution_count": 283,
   "id": "d457d7be-70b4-4c8d-b714-b41f91388d7d",
   "metadata": {},
   "outputs": [
    {
     "data": {
      "text/plain": [
       "{'predict_label': 0}"
      ]
     },
     "execution_count": 283,
     "metadata": {},
     "output_type": "execute_result"
    }
   ],
   "source": [
    "pred_dic[\"21498\"]"
   ]
  },
  {
   "cell_type": "markdown",
   "id": "85a00683-ff87-400a-8f6c-8b5b69cf71cd",
   "metadata": {},
   "source": [
    "## post preocess for adding back removed data"
   ]
  },
  {
   "cell_type": "code",
   "execution_count": 320,
   "id": "924e77ca-be91-45c9-a2d5-4a322207d79a",
   "metadata": {},
   "outputs": [
    {
     "data": {
      "text/plain": [
       "{'id': 21498,\n",
       " 'claim': '雞形目的鳥腿腳強健，擅長在地面奔跑，其中有珍稀物種，體態雄健優美、顏色鮮豔；也有經濟物種，與人類關係密切。',\n",
       " 'predicted_pages_1': ['雞形目'],\n",
       " 'predicted_evidence': [['雞形目', 2], ['雞形目', 3], ['雞形目', 0], ['雞形目', 1]],\n",
       " 'enough': 0.9632043480873108,\n",
       " 'predict_label': 0,\n",
       " 'predicted_label': 'supports'}"
      ]
     },
     "execution_count": 320,
     "metadata": {},
     "output_type": "execute_result"
    }
   ],
   "source": [
    "label_map = {0:'supports',1:'refutes'}\n",
    "for i in pair_data:\n",
    "    i[\"predicted_label\"]=label_map[i[\"predict_label\"]]\n",
    "    if i[\"enough\"]<0.1:\n",
    "        i[\"predicted_label\"]=\"NOT ENOUGH INFO\"\n",
    "pair_data[0]"
   ]
  },
  {
   "cell_type": "code",
   "execution_count": 321,
   "id": "14128035-5497-4d69-9c83-f8b8fd2626c0",
   "metadata": {},
   "outputs": [
    {
     "data": {
      "text/plain": [
       "9038"
      ]
     },
     "execution_count": 321,
     "metadata": {},
     "output_type": "execute_result"
    }
   ],
   "source": [
    "ori_data = load_json(\"../preprocess/all_test.jsonl\")\n",
    "len(ori_data)"
   ]
  },
  {
   "cell_type": "code",
   "execution_count": 322,
   "id": "bc380e71-4ee4-4d13-a09e-32733eb5b170",
   "metadata": {},
   "outputs": [
    {
     "data": {
      "text/plain": [
       "{'id': 21498,\n",
       " 'claim': '雞形目的鳥腿腳強健，擅長在地面奔跑，其中有珍稀物種，體態雄健優美、顏色鮮豔；也有經濟物種，與人類關係密切。',\n",
       " 'predicted_pages_1': ['雞形目'],\n",
       " 'predicted_evidence': [['雞形目', 2], ['雞形目', 3], ['雞形目', 0], ['雞形目', 1]],\n",
       " 'enough': 0.9632043480873108,\n",
       " 'predict_label': 0,\n",
       " 'predicted_label': 'supports'}"
      ]
     },
     "execution_count": 322,
     "metadata": {},
     "output_type": "execute_result"
    }
   ],
   "source": [
    "pair_data[0]"
   ]
  },
  {
   "cell_type": "code",
   "execution_count": 323,
   "id": "e690221f-a145-4b81-9afc-96bf62b9ed37",
   "metadata": {},
   "outputs": [],
   "source": [
    "mapping_idx = {d[\"id\"]:idx for idx,d in enumerate(pair_data)}\n",
    "re_lst = []\n",
    "for d in ori_data:\n",
    "    if d[\"id\"] in mapping_idx.keys():\n",
    "        data = pair_data[mapping_idx[d[\"id\"]]]\n",
    "        re_lst.append({\"id\":data[\"id\"],\"predicted_label\":data[\"predicted_label\"],\"predicted_evidence\":data[\"predicted_evidence\"]})\n",
    "    else:\n",
    "        re_lst.append({\"id\":d[\"id\"],\"predicted_label\":\"NOT ENOUGH INFO\",\"predicted_evidence\":None})"
   ]
  },
  {
   "cell_type": "code",
   "execution_count": 324,
   "id": "448bb596-c6cc-4d6a-b243-2cfe75b0dbad",
   "metadata": {},
   "outputs": [
    {
     "data": {
      "text/plain": [
       "9038"
      ]
     },
     "execution_count": 324,
     "metadata": {},
     "output_type": "execute_result"
    }
   ],
   "source": [
    "len(re_lst)"
   ]
  },
  {
   "cell_type": "code",
   "execution_count": 327,
   "id": "4c247078-f037-435f-b2c1-b4e505a6d856",
   "metadata": {},
   "outputs": [],
   "source": [
    "with open(\"../submissions/all_test_clu_page_sent_claim029_e005_ens5.jsonl\",\"w\",encoding=\"utf8\",) as f:\n",
    "    for i, d in enumerate(re_lst):\n",
    "        f.write(json.dumps(d, ensure_ascii=False) + \"\\n\")"
   ]
  },
  {
   "cell_type": "code",
   "execution_count": 326,
   "id": "5bfe8a7c-db8c-4f6e-b64a-0663b0d0d55c",
   "metadata": {},
   "outputs": [
    {
     "data": {
      "text/plain": [
       "[{'id': 21498,\n",
       "  'predicted_label': 'supports',\n",
       "  'predicted_evidence': [['雞形目', 2], ['雞形目', 3], ['雞形目', 0], ['雞形目', 1]]},\n",
       " {'id': 13037,\n",
       "  'predicted_label': 'refutes',\n",
       "  'predicted_evidence': [['新約書信', 5],\n",
       "   ['大公書信', 0],\n",
       "   ['新約書信', 3],\n",
       "   ['保羅_(使徒)', 3],\n",
       "   ['大公書信', 10]]},\n",
       " {'id': 18652,\n",
       "  'predicted_label': 'supports',\n",
       "  'predicted_evidence': [['羅伯·昆蘭', 4], ['羅伯·昆蘭', 0], ['羅伯·昆蘭', 1]]},\n",
       " {'id': 21378,\n",
       "  'predicted_label': 'supports',\n",
       "  'predicted_evidence': [['2015年美國網球公開賽女子單打比賽', 0],\n",
       "   ['2016年法國網球公開賽', 8],\n",
       "   ['2015年溫布頓網球錦標賽', 9],\n",
       "   ['2015年美國網球公開賽女子單打比賽', 3],\n",
       "   ['2003年美國網球公開賽女子單打比賽', 0]]},\n",
       " {'id': 18624,\n",
       "  'predicted_label': 'supports',\n",
       "  'predicted_evidence': [['漢光武帝', 4],\n",
       "   ['漢光武帝', 0],\n",
       "   ['漢光武帝', 10],\n",
       "   ['漢光武帝', 6],\n",
       "   ['漢光武帝', 9]]}]"
      ]
     },
     "execution_count": 326,
     "metadata": {},
     "output_type": "execute_result"
    }
   ],
   "source": [
    "re_lst[:5]"
   ]
  },
  {
   "cell_type": "markdown",
   "id": "28dc64d6-f53a-4875-98b8-9d9b817d82c9",
   "metadata": {},
   "source": [
    "### for cluster enough"
   ]
  },
  {
   "cell_type": "code",
   "execution_count": 235,
   "id": "0cd9d363-dd65-4119-bdf1-1731e5d55c33",
   "metadata": {},
   "outputs": [
    {
     "data": {
      "text/plain": [
       "8597"
      ]
     },
     "execution_count": 235,
     "metadata": {},
     "output_type": "execute_result"
    }
   ],
   "source": [
    "len(pair_data)"
   ]
  },
  {
   "cell_type": "code",
   "execution_count": 268,
   "id": "b97b275f-af25-4100-8a58-45ad0e3b16c0",
   "metadata": {},
   "outputs": [],
   "source": [
    "with open(\"../postprocess/all_test_clu_page_sent_claim_nclu_ens5_probs.jsonl\",\"w\",encoding=\"utf8\",) as f:\n",
    "    for i, d in enumerate(pair_data):\n",
    "        f.write(json.dumps(d, ensure_ascii=False) + \"\\n\")"
   ]
  },
  {
   "cell_type": "code",
   "execution_count": null,
   "id": "3b3494c1-8dea-444e-a0a1-990f27141a99",
   "metadata": {},
   "outputs": [],
   "source": []
  }
 ],
 "metadata": {
  "kernelspec": {
   "display_name": "IR_NLP",
   "language": "python",
   "name": "ir_nlp"
  },
  "language_info": {
   "codemirror_mode": {
    "name": "ipython",
    "version": 3
   },
   "file_extension": ".py",
   "mimetype": "text/x-python",
   "name": "python",
   "nbconvert_exporter": "python",
   "pygments_lexer": "ipython3",
   "version": "3.8.10"
  }
 },
 "nbformat": 4,
 "nbformat_minor": 5
}
